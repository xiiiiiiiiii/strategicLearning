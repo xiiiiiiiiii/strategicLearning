{
 "cells": [
  {
   "cell_type": "code",
   "execution_count": 1,
   "metadata": {},
   "outputs": [],
   "source": [
    "OUTPUT_FILE = \"../data/aime.jsonl\""
   ]
  },
  {
   "cell_type": "markdown",
   "metadata": {},
   "source": [
    "# AIME Dataset Visualization\n",
    "\n",
    "This notebook displays the AIME dataset from the DeepSeek 1.5B model evaluations."
   ]
  },
  {
   "cell_type": "code",
   "execution_count": 2,
   "metadata": {},
   "outputs": [],
   "source": [
    "import os\n",
    "import pandas as pd\n",
    "import re\n",
    "from pathlib import Path\n",
    "import matplotlib.pyplot as plt\n",
    "import numpy as np\n",
    "import json"
   ]
  },
  {
   "cell_type": "markdown",
   "metadata": {},
   "source": [
    "## Load the AIME dataset"
   ]
  },
  {
   "cell_type": "code",
   "execution_count": 3,
   "metadata": {},
   "outputs": [
    {
     "name": "stdout",
     "output_type": "stream",
     "text": [
      "Dataset shape: (30, 5)\n",
      "Columns: ['data_source', 'prompt', 'ability', 'reward_model', 'extra_info']\n"
     ]
    }
   ],
   "source": [
    "file_path = \"../data/aime.parquet\"\n",
    "df_raw = pd.read_parquet(file_path)\n",
    "print(f\"Dataset shape: {df_raw.shape}\")\n",
    "print(f\"Columns: {list(df_raw.columns)}\")"
   ]
  },
  {
   "cell_type": "markdown",
   "metadata": {},
   "source": [
    "## Display sample data"
   ]
  },
  {
   "cell_type": "code",
   "execution_count": 4,
   "metadata": {},
   "outputs": [
    {
     "data": {
      "text/html": [
       "<div>\n",
       "<style scoped>\n",
       "    .dataframe tbody tr th:only-of-type {\n",
       "        vertical-align: middle;\n",
       "    }\n",
       "\n",
       "    .dataframe tbody tr th {\n",
       "        vertical-align: top;\n",
       "    }\n",
       "\n",
       "    .dataframe thead th {\n",
       "        text-align: right;\n",
       "    }\n",
       "</style>\n",
       "<table border=\"1\" class=\"dataframe\">\n",
       "  <thead>\n",
       "    <tr style=\"text-align: right;\">\n",
       "      <th></th>\n",
       "      <th>data_source</th>\n",
       "      <th>prompt</th>\n",
       "      <th>ability</th>\n",
       "      <th>reward_model</th>\n",
       "      <th>extra_info</th>\n",
       "    </tr>\n",
       "  </thead>\n",
       "  <tbody>\n",
       "    <tr>\n",
       "      <th>0</th>\n",
       "      <td></td>\n",
       "      <td>[{'content': 'Every morning Aya goes for a $9$...</td>\n",
       "      <td>math</td>\n",
       "      <td>{'ground_truth': '204', 'style': 'rule'}</td>\n",
       "      <td>{'index': 0, 'split': 'test'}</td>\n",
       "    </tr>\n",
       "    <tr>\n",
       "      <th>1</th>\n",
       "      <td></td>\n",
       "      <td>[{'content': 'There exist real numbers $x$ and...</td>\n",
       "      <td>math</td>\n",
       "      <td>{'ground_truth': '025', 'style': 'rule'}</td>\n",
       "      <td>{'index': 1, 'split': 'test'}</td>\n",
       "    </tr>\n",
       "    <tr>\n",
       "      <th>2</th>\n",
       "      <td></td>\n",
       "      <td>[{'content': 'Alice and Bob play the following...</td>\n",
       "      <td>math</td>\n",
       "      <td>{'ground_truth': '809', 'style': 'rule'}</td>\n",
       "      <td>{'index': 2, 'split': 'test'}</td>\n",
       "    </tr>\n",
       "    <tr>\n",
       "      <th>3</th>\n",
       "      <td></td>\n",
       "      <td>[{'content': 'Jen enters a lottery by picking ...</td>\n",
       "      <td>math</td>\n",
       "      <td>{'ground_truth': '116', 'style': 'rule'}</td>\n",
       "      <td>{'index': 3, 'split': 'test'}</td>\n",
       "    </tr>\n",
       "    <tr>\n",
       "      <th>4</th>\n",
       "      <td></td>\n",
       "      <td>[{'content': 'Rectangles $ABCD$ and $EFGH$ are...</td>\n",
       "      <td>math</td>\n",
       "      <td>{'ground_truth': '104', 'style': 'rule'}</td>\n",
       "      <td>{'index': 4, 'split': 'test'}</td>\n",
       "    </tr>\n",
       "  </tbody>\n",
       "</table>\n",
       "</div>"
      ],
      "text/plain": [
       "  data_source                                             prompt ability  \\\n",
       "0              [{'content': 'Every morning Aya goes for a $9$...    math   \n",
       "1              [{'content': 'There exist real numbers $x$ and...    math   \n",
       "2              [{'content': 'Alice and Bob play the following...    math   \n",
       "3              [{'content': 'Jen enters a lottery by picking ...    math   \n",
       "4              [{'content': 'Rectangles $ABCD$ and $EFGH$ are...    math   \n",
       "\n",
       "                               reward_model                     extra_info  \n",
       "0  {'ground_truth': '204', 'style': 'rule'}  {'index': 0, 'split': 'test'}  \n",
       "1  {'ground_truth': '025', 'style': 'rule'}  {'index': 1, 'split': 'test'}  \n",
       "2  {'ground_truth': '809', 'style': 'rule'}  {'index': 2, 'split': 'test'}  \n",
       "3  {'ground_truth': '116', 'style': 'rule'}  {'index': 3, 'split': 'test'}  \n",
       "4  {'ground_truth': '104', 'style': 'rule'}  {'index': 4, 'split': 'test'}  "
      ]
     },
     "execution_count": 4,
     "metadata": {},
     "output_type": "execute_result"
    }
   ],
   "source": [
    "# Display the first few rows\n",
    "df_raw.head()"
   ]
  },
  {
   "cell_type": "code",
   "execution_count": 5,
   "metadata": {
    "scrolled": true
   },
   "outputs": [
    {
     "data": {
      "text/plain": [
       "30"
      ]
     },
     "execution_count": 5,
     "metadata": {},
     "output_type": "execute_result"
    }
   ],
   "source": [
    "aime_dataset = [\n",
    "    {\n",
    "        'problem': r['prompt'][0]['content'],\n",
    "        'answer': r['reward_model']['ground_truth'],\n",
    "    }\n",
    "    for index, r in df_raw.reset_index().iterrows()\n",
    "]\n",
    "len(aime_dataset)\n",
    "# aime_dataset"
   ]
  },
  {
   "cell_type": "code",
   "execution_count": 7,
   "metadata": {},
   "outputs": [
    {
     "name": "stdout",
     "output_type": "stream",
     "text": [
      "Saved 30 records to ../data/aime.jsonl\n"
     ]
    }
   ],
   "source": [
    "# Create directory if it doesn't exist\n",
    "dirname = os.path.dirname(OUTPUT_FILE)\n",
    "if len(dirname.strip()) > 0:\n",
    "    os.makedirs(dirname, exist_ok=True)\n",
    "\n",
    "# Save to JSONL file\n",
    "with open(OUTPUT_FILE, 'w') as f:\n",
    "    for item in aime_dataset:\n",
    "        f.write(json.dumps(item) + '\\n')\n",
    "\n",
    "print(f\"Saved {len(aime_dataset)} records to {OUTPUT_FILE}\")"
   ]
  },
  {
   "cell_type": "code",
   "execution_count": null,
   "metadata": {},
   "outputs": [],
   "source": []
  }
 ],
 "metadata": {
  "kernelspec": {
   "display_name": "strat",
   "language": "python",
   "name": "strat"
  },
  "language_info": {
   "codemirror_mode": {
    "name": "ipython",
    "version": 3
   },
   "file_extension": ".py",
   "mimetype": "text/x-python",
   "name": "python",
   "nbconvert_exporter": "python",
   "pygments_lexer": "ipython3",
   "version": "3.9.21"
  }
 },
 "nbformat": 4,
 "nbformat_minor": 4
}
