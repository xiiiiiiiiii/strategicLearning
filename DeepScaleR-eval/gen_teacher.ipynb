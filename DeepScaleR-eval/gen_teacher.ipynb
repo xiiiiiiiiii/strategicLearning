{
 "cells": [
  {
   "cell_type": "code",
   "execution_count": 1,
   "metadata": {},
   "outputs": [],
   "source": [
    "OUTPUT_FILE = \"teacher_finetune_tweak_dataset.jsonl\""
   ]
  },
  {
   "cell_type": "code",
   "execution_count": 2,
   "metadata": {},
   "outputs": [],
   "source": [
    "import os\n",
    "import pandas as pd\n",
    "import glob\n",
    "import json\n",
    "import re\n",
    "from pathlib import Path\n",
    "import matplotlib.pyplot as plt\n",
    "import numpy as np\n",
    "from dotenv import load_dotenv\n",
    "import requests"
   ]
  },
  {
   "cell_type": "code",
   "execution_count": 3,
   "metadata": {},
   "outputs": [
    {
     "data": {
      "text/plain": [
       "True"
      ]
     },
     "execution_count": 3,
     "metadata": {},
     "output_type": "execute_result"
    }
   ],
   "source": [
    "# Load environment variables from .env file\n",
    "load_dotenv()"
   ]
  },
  {
   "cell_type": "markdown",
   "metadata": {},
   "source": [
    "## Load Questions similar to ta"
   ]
  },
  {
   "cell_type": "code",
   "execution_count": 4,
   "metadata": {},
   "outputs": [
    {
     "name": "stdout",
     "output_type": "stream",
     "text": [
      "Loaded 211 rows from grpo.jsonl\n"
     ]
    }
   ],
   "source": [
    "def load_all_jsonl_to_dataframe(file_path):\n",
    "    \"\"\"Load all JSONL files from a folder into a pandas DataFrame.\"\"\"\n",
    "    \n",
    "    try:\n",
    "        # Read file into dataframe\n",
    "        df = pd.read_json(file_path, lines=True)\n",
    "        # df['source_file'] = os.path.basename(file_path)  # Optional: track source file\n",
    "        print(f\"Loaded {len(df)} rows from {os.path.basename(file_path)}\")\n",
    "        return df\n",
    "    except Exception as e:\n",
    "        print(f\"Error loading {file_path}: {e}\")\n",
    "\n",
    "# Usage\n",
    "file_path = \"../top_600_ripe_0_similar/ripe-0-similar-ripe-epochs-30/grpo.jsonl\"\n",
    "raw_data = load_all_jsonl_to_dataframe(file_path)"
   ]
  },
  {
   "cell_type": "markdown",
   "metadata": {},
   "source": [
    "## Display sample data"
   ]
  },
  {
   "cell_type": "code",
   "execution_count": 5,
   "metadata": {},
   "outputs": [
    {
     "data": {
      "text/html": [
       "<div>\n",
       "<style scoped>\n",
       "    .dataframe tbody tr th:only-of-type {\n",
       "        vertical-align: middle;\n",
       "    }\n",
       "\n",
       "    .dataframe tbody tr th {\n",
       "        vertical-align: top;\n",
       "    }\n",
       "\n",
       "    .dataframe thead th {\n",
       "        text-align: right;\n",
       "    }\n",
       "</style>\n",
       "<table border=\"1\" class=\"dataframe\">\n",
       "  <thead>\n",
       "    <tr style=\"text-align: right;\">\n",
       "      <th></th>\n",
       "      <th>problem</th>\n",
       "      <th>answer</th>\n",
       "    </tr>\n",
       "  </thead>\n",
       "  <tbody>\n",
       "    <tr>\n",
       "      <th>0</th>\n",
       "      <td>\\nConsider all possible quadratic polynomials ...</td>\n",
       "      <td>50</td>\n",
       "    </tr>\n",
       "    <tr>\n",
       "      <th>1</th>\n",
       "      <td>\\nDecide whether there is an integer \\( n &gt; 1 ...</td>\n",
       "      <td>561</td>\n",
       "    </tr>\n",
       "    <tr>\n",
       "      <th>2</th>\n",
       "      <td>\\nWe wrote the numbers from 1 to 2009 on a pie...</td>\n",
       "      <td>2009</td>\n",
       "    </tr>\n",
       "    <tr>\n",
       "      <th>3</th>\n",
       "      <td>$(1)$ $f(n)$ is a function defined on the set ...</td>\n",
       "      <td>364</td>\n",
       "    </tr>\n",
       "    <tr>\n",
       "      <th>4</th>\n",
       "      <td>$(1)$ State the operation laws or rules used i...</td>\n",
       "      <td>-\\frac{1}{2}</td>\n",
       "    </tr>\n",
       "    <tr>\n",
       "      <th>...</th>\n",
       "      <td>...</td>\n",
       "      <td>...</td>\n",
       "    </tr>\n",
       "    <tr>\n",
       "      <th>95</th>\n",
       "      <td>For the set $M$, define the function $f_M(x) =...</td>\n",
       "      <td>16</td>\n",
       "    </tr>\n",
       "    <tr>\n",
       "      <th>96</th>\n",
       "      <td>For what is the smallest $n$ such that there e...</td>\n",
       "      <td>44</td>\n",
       "    </tr>\n",
       "    <tr>\n",
       "      <th>97</th>\n",
       "      <td>Four different natural numbers, of which one i...</td>\n",
       "      <td>40</td>\n",
       "    </tr>\n",
       "    <tr>\n",
       "      <th>98</th>\n",
       "      <td>Four people, A, B, C, and D, stand on a stairc...</td>\n",
       "      <td>2394</td>\n",
       "    </tr>\n",
       "    <tr>\n",
       "      <th>99</th>\n",
       "      <td>Given $(b_1, b_2, ... b_7)$ be a list of the f...</td>\n",
       "      <td>64</td>\n",
       "    </tr>\n",
       "  </tbody>\n",
       "</table>\n",
       "<p>100 rows × 2 columns</p>\n",
       "</div>"
      ],
      "text/plain": [
       "                                              problem        answer\n",
       "0   \\nConsider all possible quadratic polynomials ...            50\n",
       "1   \\nDecide whether there is an integer \\( n > 1 ...           561\n",
       "2   \\nWe wrote the numbers from 1 to 2009 on a pie...          2009\n",
       "3   $(1)$ $f(n)$ is a function defined on the set ...           364\n",
       "4   $(1)$ State the operation laws or rules used i...  -\\frac{1}{2}\n",
       "..                                                ...           ...\n",
       "95  For the set $M$, define the function $f_M(x) =...            16\n",
       "96  For what is the smallest $n$ such that there e...            44\n",
       "97  Four different natural numbers, of which one i...            40\n",
       "98  Four people, A, B, C, and D, stand on a stairc...          2394\n",
       "99  Given $(b_1, b_2, ... b_7)$ be a list of the f...            64\n",
       "\n",
       "[100 rows x 2 columns]"
      ]
     },
     "execution_count": 5,
     "metadata": {},
     "output_type": "execute_result"
    }
   ],
   "source": [
    "# Display the first few rows\n",
    "raw_data.head(100)"
   ]
  },
  {
   "cell_type": "code",
   "execution_count": 6,
   "metadata": {},
   "outputs": [
    {
     "name": "stdout",
     "output_type": "stream",
     "text": [
      "\n",
      "Consider all possible quadratic polynomials $x^2 + px + q$ with a positive discriminant, where the coefficients $p$ and $q$ are integers divisible by 5. Find the largest natural number $n$ such that for any polynomial with the described properties, the sum of the hundredth powers of the roots is an integer divisible by $5^n$. Let's think step by step and output the final answer within \\boxed{}.\n"
     ]
    }
   ],
   "source": [
    "print(raw_data.iloc[0]['problem'])"
   ]
  },
  {
   "cell_type": "markdown",
   "metadata": {},
   "source": [
    "## Solution Extraction Utilities\n",
    "\n",
    "Functions to extract solutions from model outputs and compute correctness."
   ]
  },
  {
   "cell_type": "code",
   "execution_count": 7,
   "metadata": {},
   "outputs": [],
   "source": [
    "def remove_boxed(s):\n",
    "    if s is None:\n",
    "        return None\n",
    "\n",
    "    left = \"\\\\boxed{\"\n",
    "\n",
    "    if s[:len(left)] != left:\n",
    "        return None\n",
    "    if s[-1] != \"}\":\n",
    "        return None\n",
    "\n",
    "    return s[len(left):-1]\n",
    "\n",
    "\n",
    "def last_boxed_only_string(string):\n",
    "    idx = string.rfind(\"\\\\boxed\")\n",
    "    if \"\\\\boxed \" in string:\n",
    "        return \"\\\\boxed \" + string.split(\"\\\\boxed \")[-1].split(\"$\")[0]\n",
    "    if idx < 0:\n",
    "        idx = string.rfind(\"\\\\fbox\")\n",
    "        if idx < 0:\n",
    "            return None\n",
    "\n",
    "    i = idx\n",
    "    right_brace_idx = None\n",
    "    num_left_braces_open = 0\n",
    "    while i < len(string):\n",
    "        if string[i] == \"{\":\n",
    "            num_left_braces_open += 1\n",
    "        if string[i] == \"}\":\n",
    "            num_left_braces_open -= 1\n",
    "            if num_left_braces_open == 0:\n",
    "                right_brace_idx = i\n",
    "                break\n",
    "        i += 1\n",
    "\n",
    "    if right_brace_idx is None:\n",
    "        retval = None\n",
    "    else:\n",
    "        retval = string[idx:right_brace_idx + 1]\n",
    "\n",
    "    return retval\n",
    "\n",
    "def extract_solution(text):\n",
    "    return remove_boxed(last_boxed_only_string(text))\n",
    "\n",
    "def correctness_reward_func(response: str, actual_answers: str) -> float:\n",
    "    extracted_answer = extract_solution(response)\n",
    "    return 1.0 if extracted_answer == actual_answers else 0.0"
   ]
  },
  {
   "cell_type": "markdown",
   "metadata": {},
   "source": [
    "## Get Teacher Reasoning Traces"
   ]
  },
  {
   "cell_type": "code",
   "execution_count": 9,
   "metadata": {},
   "outputs": [],
   "source": [
    "def get_reasoning_trace(problem, model=\"qwen-qwq-32b\", timeout=300):  # 5 minutes default timeout\n",
    "    \"\"\"Get a reasoning trace for a single problem using Groq Flex API\"\"\"\n",
    "    \n",
    "    try:\n",
    "        out = client.chat.completions.create(\n",
    "            messages=[\n",
    "                {\"role\": \"user\", \"content\": problem}\n",
    "            ],\n",
    "            model=model,\n",
    "            temperature=0.8,\n",
    "            top_p=0.95,\n",
    "            max_completion_tokens=32767,\n",
    "            # stop=None,\n",
    "            stream=False,  # This enables streaming\n",
    "            timeout=timeout,\n",
    "        )\n",
    "\n",
    "        return out.choices[0].message.content\n",
    "\n",
    "    except Exception as e:\n",
    "        print(f\"Error making API request: {str(e)}\")\n",
    "        return None\n"
   ]
  },
  {
   "cell_type": "code",
   "execution_count": 10,
   "metadata": {},
   "outputs": [],
   "source": [
    "# def get_reasoning_trace_request(problem, model=\"qwen-qwq-32b\", timeout=300):  # 5 minutes default timeout\n",
    "#     \"\"\"Get a reasoning trace for a single problem using Groq Flex API\"\"\"\n",
    "    \n",
    "#     try:\n",
    "#         response = requests.post(\n",
    "#             \"https://api.groq.com/openai/v1/chat/completions\",\n",
    "#             headers={\n",
    "#                 \"Content-Type\": \"application/json\",\n",
    "#                 \"Authorization\": f\"Bearer {os.getenv('GROQ_API_KEY')}\"\n",
    "#             },\n",
    "#             json={\n",
    "#                 \"service_tier\": \"on_demand\",\n",
    "#                 \"model\": model,\n",
    "#                 \"messages\": [\n",
    "#                     {\"role\": \"user\", \"content\": problem}\n",
    "#                 ],\n",
    "#                 \"temperature\": 0.8,  # Increased temperature for more diverse reasoning paths\n",
    "#                 \"top_p\": 0.95,\n",
    "#                 \"max_tokens\": 32767\n",
    "#             },\n",
    "#             timeout=timeout  # Add timeout parameter here (in seconds)\n",
    "#         )\n",
    "        \n",
    "#         if response.status_code != 200:\n",
    "#             print(f\"Error: API returned status code {response.status_code}\")\n",
    "#             print(f\"Response: {response.text}\")\n",
    "#             return None\n",
    "            \n",
    "#         return response.json()\n",
    "#     except Exception as e:\n",
    "#         print(f\"Error making API request: {str(e)}\")\n",
    "#         return None"
   ]
  },
  {
   "cell_type": "code",
   "execution_count": 11,
   "metadata": {},
   "outputs": [],
   "source": [
    "ORIG_SYSTEM_PROMPT = \"Let's think step by step and output the final answer within \\\\boxed{}.\"\n",
    "NEW_SYSTEM_PROMPT = 'Plan your answer. Check your answer against everything in the question and if it is not correct, go back to your last checked answer. Think step by step and output the final answer within \\\\boxed{}.'\n",
    "\n",
    "tweak_dataset = [\n",
    "    {\n",
    "        'problem': r['problem'],\n",
    "        'answer': str(r['answer']),\n",
    "    }\n",
    "    for index, r in raw_data.reset_index().iterrows()\n",
    "]\n",
    "\n",
    "for r in tweak_dataset:\n",
    "    if ORIG_SYSTEM_PROMPT in r['problem']:\n",
    "        r['problem'] = r['problem'].replace(ORIG_SYSTEM_PROMPT, NEW_SYSTEM_PROMPT)\n",
    "\n",
    "# len(tweak_dataset)\n",
    "# tweak_dataset[:3]"
   ]
  },
  {
   "cell_type": "code",
   "execution_count": 14,
   "metadata": {},
   "outputs": [
    {
     "name": "stdout",
     "output_type": "stream",
     "text": [
      "\n",
      "Consider all possible quadratic polynomials $x^2 + px + q$ with a positive discriminant, where the coefficients $p$ and $q$ are integers divisible by 5. Find the largest natural number $n$ such that for any polynomial with the described properties, the sum of the hundredth powers of the roots is an integer divisible by $5^n$. Plan your answer. Check your answer against everything in the question and if it is not correct, go back to your last checked answer. Think step by step and output the final answer within \\boxed{}.\n"
     ]
    }
   ],
   "source": [
    "print(tweak_dataset[0]['problem'])"
   ]
  },
  {
   "cell_type": "code",
   "execution_count": 13,
   "metadata": {},
   "outputs": [
    {
     "data": {
      "text/plain": [
       "'50'"
      ]
     },
     "execution_count": 13,
     "metadata": {},
     "output_type": "execute_result"
    }
   ],
   "source": [
    "tweak_dataset[0]['answer']"
   ]
  },
  {
   "cell_type": "code",
   "execution_count": 42,
   "metadata": {},
   "outputs": [],
   "source": [
    "limit = 1\n",
    "tweak_dataset = tweak_dataset[:limit]"
   ]
  },
  {
   "cell_type": "code",
   "execution_count": 43,
   "metadata": {
    "scrolled": true
   },
   "outputs": [
    {
     "name": "stdout",
     "output_type": "stream",
     "text": [
      "0: \n",
      "Consider all possible quadratic polynomials $x^2 + px + q$ with a positive discriminant, where the coefficients $p$ and $q$ are integers divisible by 5. Find the largest natural number $n$ such that for any polynomial with the described properties, the sum of the hundredth powers of the roots is an integer divisible by $5^n$. Plan your answer. Check your answer against everything in the question and if it is not correct, go back to your last checked answer. Think step by step and output the final answer within \\boxed{}.\n",
      "Error making API request: upstream request timeout\n"
     ]
    },
    {
     "data": {
      "text/plain": [
       "[{'problem': '\\nConsider all possible quadratic polynomials $x^2 + px + q$ with a positive discriminant, where the coefficients $p$ and $q$ are integers divisible by 5. Find the largest natural number $n$ such that for any polynomial with the described properties, the sum of the hundredth powers of the roots is an integer divisible by $5^n$. Plan your answer. Check your answer against everything in the question and if it is not correct, go back to your last checked answer. Think step by step and output the final answer within \\\\boxed{}.',\n",
       "  'answer': '50',\n",
       "  'teacher_trace': None}]"
      ]
     },
     "execution_count": 43,
     "metadata": {},
     "output_type": "execute_result"
    }
   ],
   "source": [
    "for i, r in enumerate(tweak_dataset):\n",
    "    print(f\"{i}: {r['problem']}\")\n",
    "    try:\n",
    "        r['teacher_trace'] = get_reasoning_trace(r['problem'], model=\"qwen-qwq-32b\", timeout=600)\n",
    "    except Exception as e:\n",
    "        print(f\"Error making API request: {str(e)}\")\n",
    "        r['teacher_trace'] = None\n",
    "\n",
    "tweak_dataset"
   ]
  },
  {
   "cell_type": "code",
   "execution_count": null,
   "metadata": {},
   "outputs": [],
   "source": [
    "for i, r in enumerate(tweak_dataset):\n",
    "    if tweak_dataset[i]['teacher_trace'] is None:\n",
    "        print(f\"{i} skipped\")\n",
    "        continue\n",
    "    r['extracted_solution'] = str(extract_solution(tweak_dataset[i]['teacher_trace']))\n",
    "    r['reward'] = correctness_reward_func(tweak_dataset[i]['teacher_trace'], tweak_dataset[i]['answer'])\n",
    "    print(f\"{i} Gold answer {tweak_dataset[i]['answer']} extracted answer {r['extracted_solution']} reward {r['reward']}\")"
   ]
  },
  {
   "cell_type": "code",
   "execution_count": null,
   "metadata": {},
   "outputs": [],
   "source": [
    "correct = [r for r in tweak_dataset if r.get('reward', None) == 1.0]\n",
    "len(correct)"
   ]
  },
  {
   "cell_type": "code",
   "execution_count": null,
   "metadata": {},
   "outputs": [],
   "source": [
    "# Create directory if it doesn't exist\n",
    "dirname = os.path.dirname(OUTPUT_FILE)\n",
    "if len(dirname.strip()) > 0:\n",
    "    os.makedirs(dirname, exist_ok=True)\n",
    "\n",
    "# Save to JSONL file\n",
    "with open(OUTPUT_FILE, 'w') as f:\n",
    "    for item in correct:\n",
    "        f.write(json.dumps(item) + '\\n')\n",
    "\n",
    "print(f\"Saved {len(correct)} records to {OUTPUT_FILE}\")"
   ]
  },
  {
   "cell_type": "code",
   "execution_count": null,
   "metadata": {},
   "outputs": [],
   "source": []
  }
 ],
 "metadata": {
  "kernelspec": {
   "display_name": "strat",
   "language": "python",
   "name": "strat"
  },
  "language_info": {
   "codemirror_mode": {
    "name": "ipython",
    "version": 3
   },
   "file_extension": ".py",
   "mimetype": "text/x-python",
   "name": "python",
   "nbconvert_exporter": "python",
   "pygments_lexer": "ipython3",
   "version": "3.9.21"
  }
 },
 "nbformat": 4,
 "nbformat_minor": 4
}
