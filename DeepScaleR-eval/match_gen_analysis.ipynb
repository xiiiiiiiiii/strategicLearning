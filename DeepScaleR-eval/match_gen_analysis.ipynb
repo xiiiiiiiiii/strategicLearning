{
 "cells": [
  {
   "cell_type": "code",
   "execution_count": 2,
   "metadata": {},
   "outputs": [],
   "source": [
    "# OUTPUT_FILE = \"grpo_tweak_dataset.jsonl\""
   ]
  },
  {
   "cell_type": "code",
   "execution_count": 21,
   "metadata": {},
   "outputs": [],
   "source": [
    "import os\n",
    "import pandas as pd\n",
    "import glob\n",
    "import json\n",
    "import re\n",
    "from pathlib import Path\n",
    "import matplotlib.pyplot as plt\n",
    "import numpy as np\n",
    "from datasets import load_dataset, Dataset"
   ]
  },
  {
   "cell_type": "markdown",
   "metadata": {},
   "source": [
    "## Load Completions"
   ]
  },
  {
   "cell_type": "code",
   "execution_count": 5,
   "metadata": {},
   "outputs": [
    {
     "name": "stdout",
     "output_type": "stream",
     "text": [
      "Loaded 12 rows from 4.jsonl\n",
      "Loaded 12 rows from 6.jsonl\n",
      "Loaded 12 rows from 2.jsonl\n",
      "Loaded 12 rows from 0.jsonl\n",
      "Loaded 12 rows from 7.jsonl\n",
      "Loaded 12 rows from 5.jsonl\n",
      "Loaded 12 rows from 1.jsonl\n",
      "Loaded 12 rows from 3.jsonl\n",
      "Created DataFrame with 96 rows from 8 files\n"
     ]
    }
   ],
   "source": [
    "def load_all_jsonl_to_dataframe(folder_path):\n",
    "    \"\"\"Load all JSONL files from a folder into a pandas DataFrame.\"\"\"\n",
    "    # Find all .jsonl files\n",
    "    jsonl_files = glob.glob(os.path.join(folder_path, \"*.jsonl\"))\n",
    "    \n",
    "    # Create list to hold dataframes\n",
    "    dfs = []\n",
    "    \n",
    "    for file_path in jsonl_files:\n",
    "        try:\n",
    "            # Read file into dataframe\n",
    "            df = pd.read_json(file_path, lines=True)\n",
    "            df['source_file'] = os.path.basename(file_path)  # Optional: track source file\n",
    "            dfs.append(df)\n",
    "            print(f\"Loaded {len(df)} rows from {os.path.basename(file_path)}\")\n",
    "        except Exception as e:\n",
    "            print(f\"Error loading {file_path}: {e}\")\n",
    "    \n",
    "    # Combine all dataframes\n",
    "    if dfs:\n",
    "        combined_df = pd.concat(dfs, ignore_index=True)\n",
    "        print(f\"Created DataFrame with {len(combined_df)} rows from {len(jsonl_files)} files\")\n",
    "        return combined_df\n",
    "    else:\n",
    "        print(\"No valid files found\")\n",
    "        return pd.DataFrame()\n",
    "\n",
    "# Usage\n",
    "folder_path = \"../data/top_87_ripe_0_DeepScaleR_1_5_B_results/\"\n",
    "# folder_path = \"../../deepscaler_finetune/top_600_DeepScaleR_1_5_B_results\"\n",
    "combined_data = load_all_jsonl_to_dataframe(folder_path)"
   ]
  },
  {
   "cell_type": "markdown",
   "metadata": {},
   "source": [
    "## Display sample data"
   ]
  },
  {
   "cell_type": "code",
   "execution_count": 6,
   "metadata": {},
   "outputs": [],
   "source": [
    "# Display the first few rows\n",
    "# combined_data.head(100)"
   ]
  },
  {
   "cell_type": "code",
   "execution_count": 44,
   "metadata": {},
   "outputs": [],
   "source": [
    "# combined_data.iloc[0]"
   ]
  },
  {
   "cell_type": "markdown",
   "metadata": {},
   "source": [
    "## Solution Extraction Utilities\n",
    "\n",
    "Functions to extract solutions from model outputs and compute correctness."
   ]
  },
  {
   "cell_type": "code",
   "execution_count": 9,
   "metadata": {},
   "outputs": [],
   "source": [
    "def remove_boxed(s):\n",
    "    if s is None:\n",
    "        return None\n",
    "\n",
    "    left = \"\\\\boxed{\"\n",
    "\n",
    "    if s[:len(left)] != left:\n",
    "        return None\n",
    "    if s[-1] != \"}\":\n",
    "        return None\n",
    "\n",
    "    return s[len(left):-1]\n",
    "\n",
    "\n",
    "def last_boxed_only_string(string):\n",
    "    idx = string.rfind(\"\\\\boxed\")\n",
    "    if \"\\\\boxed \" in string:\n",
    "        return \"\\\\boxed \" + string.split(\"\\\\boxed \")[-1].split(\"$\")[0]\n",
    "    if idx < 0:\n",
    "        idx = string.rfind(\"\\\\fbox\")\n",
    "        if idx < 0:\n",
    "            return None\n",
    "\n",
    "    i = idx\n",
    "    right_brace_idx = None\n",
    "    num_left_braces_open = 0\n",
    "    while i < len(string):\n",
    "        if string[i] == \"{\":\n",
    "            num_left_braces_open += 1\n",
    "        if string[i] == \"}\":\n",
    "            num_left_braces_open -= 1\n",
    "            if num_left_braces_open == 0:\n",
    "                right_brace_idx = i\n",
    "                break\n",
    "        i += 1\n",
    "\n",
    "    if right_brace_idx is None:\n",
    "        retval = None\n",
    "    else:\n",
    "        retval = string[idx:right_brace_idx + 1]\n",
    "\n",
    "    return retval\n",
    "\n",
    "def extract_solution(text):\n",
    "    return remove_boxed(last_boxed_only_string(text))\n",
    "\n",
    "def correctness_reward_func(response: str, actual_answers: str) -> float:\n",
    "    extracted_answer = extract_solution(response)\n",
    "    return 1.0 if extracted_answer == actual_answers else 0.0"
   ]
  },
  {
   "cell_type": "markdown",
   "metadata": {},
   "source": [
    "## Transform for Analysis"
   ]
  },
  {
   "cell_type": "code",
   "execution_count": 10,
   "metadata": {},
   "outputs": [
    {
     "data": {
      "text/html": [
       "<div>\n",
       "<style scoped>\n",
       "    .dataframe tbody tr th:only-of-type {\n",
       "        vertical-align: middle;\n",
       "    }\n",
       "\n",
       "    .dataframe tbody tr th {\n",
       "        vertical-align: top;\n",
       "    }\n",
       "\n",
       "    .dataframe thead th {\n",
       "        text-align: right;\n",
       "    }\n",
       "</style>\n",
       "<table border=\"1\" class=\"dataframe\">\n",
       "  <thead>\n",
       "    <tr style=\"text-align: right;\">\n",
       "      <th></th>\n",
       "      <th>prompt</th>\n",
       "      <th>answer</th>\n",
       "      <th>prompt_id</th>\n",
       "      <th>outputs</th>\n",
       "      <th>source_file</th>\n",
       "    </tr>\n",
       "  </thead>\n",
       "  <tbody>\n",
       "    <tr>\n",
       "      <th>0</th>\n",
       "      <td>What is the median of the following list of $4...</td>\n",
       "      <td>1976.5</td>\n",
       "      <td>48</td>\n",
       "      <td>[{'output': '  \n",
       "&lt;/think&gt;&lt;think&gt;\n",
       "Okay, so I nee...</td>\n",
       "      <td>4.jsonl</td>\n",
       "    </tr>\n",
       "    <tr>\n",
       "      <th>1</th>\n",
       "      <td>Ten positive integers include the numbers 3, 5...</td>\n",
       "      <td>11.0</td>\n",
       "      <td>49</td>\n",
       "      <td>[{'output': '\"\n",
       "\n",
       "&lt;think&gt;\n",
       "Okay, so I've got this...</td>\n",
       "      <td>4.jsonl</td>\n",
       "    </tr>\n",
       "    <tr>\n",
       "      <th>2</th>\n",
       "      <td>Cory made a complete list of the prime numbers...</td>\n",
       "      <td>25.0</td>\n",
       "      <td>50</td>\n",
       "      <td>[{'output': '\"\n",
       "Alright, let's tackle this prob...</td>\n",
       "      <td>4.jsonl</td>\n",
       "    </tr>\n",
       "    <tr>\n",
       "      <th>3</th>\n",
       "      <td>For a given list of three numbers, the operati...</td>\n",
       "      <td>18.0</td>\n",
       "      <td>51</td>\n",
       "      <td>[{'output': ' \n",
       "\n",
       "&lt;think&gt;\n",
       "Okay, so I have this p...</td>\n",
       "      <td>4.jsonl</td>\n",
       "    </tr>\n",
       "    <tr>\n",
       "      <th>4</th>\n",
       "      <td>Given $(b_1, b_2, ..., b_{12})$ is a list of t...</td>\n",
       "      <td>2048.0</td>\n",
       "      <td>52</td>\n",
       "      <td>[{'output': ''\n",
       "&lt;think&gt;\n",
       "Okay, so I have this pr...</td>\n",
       "      <td>4.jsonl</td>\n",
       "    </tr>\n",
       "    <tr>\n",
       "      <th>...</th>\n",
       "      <td>...</td>\n",
       "      <td>...</td>\n",
       "      <td>...</td>\n",
       "      <td>...</td>\n",
       "      <td>...</td>\n",
       "    </tr>\n",
       "    <tr>\n",
       "      <th>91</th>\n",
       "      <td>Let \\( (a_1, a_2, \\dots, a_{12}) \\) be a list ...</td>\n",
       "      <td>2048.0</td>\n",
       "      <td>43</td>\n",
       "      <td>[{'output': '[/&lt;think&gt;\n",
       "Okay, so I have this pr...</td>\n",
       "      <td>3.jsonl</td>\n",
       "    </tr>\n",
       "    <tr>\n",
       "      <th>92</th>\n",
       "      <td>Let $(a_1, a_2, \\dots ,a_{10})$ be a list of t...</td>\n",
       "      <td>512.0</td>\n",
       "      <td>44</td>\n",
       "      <td>[{'output': ' {Your answer should be...,}.\\}\n",
       "I...</td>\n",
       "      <td>3.jsonl</td>\n",
       "    </tr>\n",
       "    <tr>\n",
       "      <th>93</th>\n",
       "      <td>When the mean, median, and mode of the list\\n\\...</td>\n",
       "      <td>20.0</td>\n",
       "      <td>45</td>\n",
       "      <td>[{'output': '\\\n",
       "&lt;think&gt;\n",
       "Okay, so I have this pr...</td>\n",
       "      <td>3.jsonl</td>\n",
       "    </tr>\n",
       "    <tr>\n",
       "      <th>94</th>\n",
       "      <td>When the mean, median, and mode of the list\\n\\...</td>\n",
       "      <td>20.0</td>\n",
       "      <td>46</td>\n",
       "      <td>[{'output': ' \n",
       "&lt;think&gt;\n",
       "Okay, so I have this pr...</td>\n",
       "      <td>3.jsonl</td>\n",
       "    </tr>\n",
       "    <tr>\n",
       "      <th>95</th>\n",
       "      <td>What is the median of the following list of $4...</td>\n",
       "      <td>1976.5</td>\n",
       "      <td>47</td>\n",
       "      <td>[{'output': '**\n",
       "**I** bumped into a problem th...</td>\n",
       "      <td>3.jsonl</td>\n",
       "    </tr>\n",
       "  </tbody>\n",
       "</table>\n",
       "<p>96 rows × 5 columns</p>\n",
       "</div>"
      ],
      "text/plain": [
       "                                               prompt  answer  prompt_id  \\\n",
       "0   What is the median of the following list of $4...  1976.5         48   \n",
       "1   Ten positive integers include the numbers 3, 5...    11.0         49   \n",
       "2   Cory made a complete list of the prime numbers...    25.0         50   \n",
       "3   For a given list of three numbers, the operati...    18.0         51   \n",
       "4   Given $(b_1, b_2, ..., b_{12})$ is a list of t...  2048.0         52   \n",
       "..                                                ...     ...        ...   \n",
       "91  Let \\( (a_1, a_2, \\dots, a_{12}) \\) be a list ...  2048.0         43   \n",
       "92  Let $(a_1, a_2, \\dots ,a_{10})$ be a list of t...   512.0         44   \n",
       "93  When the mean, median, and mode of the list\\n\\...    20.0         45   \n",
       "94  When the mean, median, and mode of the list\\n\\...    20.0         46   \n",
       "95  What is the median of the following list of $4...  1976.5         47   \n",
       "\n",
       "                                              outputs source_file  \n",
       "0   [{'output': '  \n",
       "</think><think>\n",
       "Okay, so I nee...     4.jsonl  \n",
       "1   [{'output': '\"\n",
       "\n",
       "<think>\n",
       "Okay, so I've got this...     4.jsonl  \n",
       "2   [{'output': '\"\n",
       "Alright, let's tackle this prob...     4.jsonl  \n",
       "3   [{'output': ' \n",
       "\n",
       "<think>\n",
       "Okay, so I have this p...     4.jsonl  \n",
       "4   [{'output': ''\n",
       "<think>\n",
       "Okay, so I have this pr...     4.jsonl  \n",
       "..                                                ...         ...  \n",
       "91  [{'output': '[/<think>\n",
       "Okay, so I have this pr...     3.jsonl  \n",
       "92  [{'output': ' {Your answer should be...,}.\\}\n",
       "I...     3.jsonl  \n",
       "93  [{'output': '\\\n",
       "<think>\n",
       "Okay, so I have this pr...     3.jsonl  \n",
       "94  [{'output': ' \n",
       "<think>\n",
       "Okay, so I have this pr...     3.jsonl  \n",
       "95  [{'output': '**\n",
       "**I** bumped into a problem th...     3.jsonl  \n",
       "\n",
       "[96 rows x 5 columns]"
      ]
     },
     "execution_count": 10,
     "metadata": {},
     "output_type": "execute_result"
    }
   ],
   "source": [
    "combined_data.copy()"
   ]
  },
  {
   "cell_type": "code",
   "execution_count": 11,
   "metadata": {
    "scrolled": true
   },
   "outputs": [],
   "source": [
    "df = combined_data.copy()\n",
    "df['question_text'] = df['prompt']\n",
    "df['ground_truth'] = df['answer']\n",
    "df.drop([\n",
    "    'source_file',\n",
    "], axis=1, inplace=True)\n",
    "# print(f\"len(df): {len(df)}\")\n",
    "df = df.explode('outputs')\n",
    "df['response'] = df['outputs'].apply(lambda x: x['output'] if isinstance(x, dict) else None)\n",
    "len_no_output = len(df[df.response.isna()])\n",
    "df = df[df.response.notna()]\n",
    "# print(f\"len(df): {len(df)}\")\n",
    "df['extracted_solution'] = df['response'].apply(lambda x: extract_solution(x) if x is not None else None)\n",
    "df['response_word_count'] = df['response'].astype(str).str.split().str.len()\n",
    "\n",
    "# # # Only keep completions where there was a generated solution.\n",
    "# # df = df[df['extracted_solution'].notna()]\n",
    "\n",
    "df['reward'] = (df['extracted_solution'] == df['ground_truth'].astype(str)).astype(float)\n",
    "# df\n",
    "# df[df['extracted_solution'].isna()]"
   ]
  },
  {
   "cell_type": "code",
   "execution_count": 12,
   "metadata": {},
   "outputs": [],
   "source": [
    "def pass_at_k(n, c, k):\n",
    "    \"\"\"\n",
    "    :param n: total number of samples :param c: number of correct\n",
    "    Samples\n",
    "    :param k: k in pass@$k$\n",
    "    \"\"\"\n",
    "    if n - c < k: return 1.0\n",
    "    return 1.0 - np.prod(1.0 - k / np.arange(n - c + 1, n + 1))\n",
    "\n",
    "# pass_at_k(16, 2, 1)"
   ]
  },
  {
   "cell_type": "code",
   "execution_count": 13,
   "metadata": {},
   "outputs": [
    {
     "name": "stdout",
     "output_type": "stream",
     "text": [
      "len(perf): 87\n"
     ]
    }
   ],
   "source": [
    "perf = (\n",
    "    df[['question_text', 'ground_truth', 'reward']]\n",
    "    .groupby(['question_text', 'ground_truth'])\n",
    "    .agg(\n",
    "        count=('reward', 'count'),\n",
    "        sum_reward=('reward', 'sum'),\n",
    "        accuracy=('reward', 'mean')\n",
    "    )\n",
    ")\n",
    "\n",
    "print(f\"len(perf): {len(perf)}\")\n",
    "\n",
    "# If only answer with an extarcted \\boxed{...} answer are kept, count isn't always 16.\n",
    "# assert(len(perf[perf['count'] != 16]) == 0)\n",
    "# perf[f'pass@{k}'] = perf['sum_reward'].apply(lambda x: pass_at_k(16, x, k))\n",
    "\n",
    "k = 1\n",
    "perf[f'pass@{k}'] = perf.apply(\n",
    "    lambda x: pass_at_k(x['count'], x['sum_reward'], k), \n",
    "    axis=1\n",
    ")\n",
    "# perf"
   ]
  },
  {
   "cell_type": "code",
   "execution_count": 14,
   "metadata": {},
   "outputs": [],
   "source": [
    "# overall_perf = perf[[f'pass@{k}']].mean()\n",
    "# overall_perf"
   ]
  },
  {
   "cell_type": "code",
   "execution_count": 15,
   "metadata": {},
   "outputs": [
    {
     "name": "stdout",
     "output_type": "stream",
     "text": [
      "total: 87\n",
      "total_too_hard: 38\n",
      "total_ripe: 16\n",
      "total_already_done: 33\n"
     ]
    }
   ],
   "source": [
    "total = len(perf)\n",
    "print(f\"total: {total}\")\n",
    "\n",
    "# Too hard.\n",
    "too_hard = perf[(perf['accuracy'] == 0.0)]\n",
    "total_too_hard = len(too_hard)\n",
    "print(f\"total_too_hard: {total_too_hard}\")\n",
    "\n",
    "# Ripe for improvement\n",
    "ripe = perf[(perf['accuracy'] <= 0.8) & (perf['accuracy'] > 0.0)]\n",
    "total_ripe = len(ripe)\n",
    "print(f\"total_ripe: {total_ripe}\")\n",
    "\n",
    "# Not worth improving.\n",
    "already_done = perf[(perf['accuracy'] >= 0.8)]\n",
    "total_already_done = len(already_done)\n",
    "print(f\"total_already_done: {total_already_done}\")\n",
    "\n",
    "check_total = total_too_hard + total_ripe + total_already_done\n",
    "assert(total == check_total)\n",
    "\n",
    "# ripe"
   ]
  },
  {
   "cell_type": "code",
   "execution_count": 46,
   "metadata": {
    "scrolled": true
   },
   "outputs": [
    {
     "data": {
      "text/plain": [
       "[{'problem': \"A list of five positive integers has all of the following properties:\\n\\n$\\\\bullet$  The only integer in the list that occurs more than once is $8,$\\n\\n$\\\\bullet$  its median is $9,$ and\\n\\n$\\\\bullet$  its average (mean) is $10.$\\n\\nWhat is the largest possible integer that could appear in the list? Let's think step by step and output the final answer within \\\\boxed{}.\",\n",
       "  'answer': '15'},\n",
       " {'problem': \"A list of five positive integers has mean $12$ and range $18$. The mode and median are both $8$. How many different values are possible for the second largest element of the list? Let's think step by step and output the final answer within \\\\boxed{}.\",\n",
       "  'answer': '6'},\n",
       " {'problem': \"A list of integers has mode 32 and mean 22. The smallest number in the list is 10. The median  m of the list is a member of the list. If the list member  m were replaced by  m+10, the mean and median of the new list would be 24 and  m+10, respectively. If  m were instead replaced by  m-8, the median of the new list would be  m-4. What is  m? Let's think step by step and output the final answer within \\\\boxed{}.\",\n",
       "  'answer': '20'},\n",
       " {'problem': \"A list of seven positive integers has a median of 4 and a mean of 10. What is the maximum possible value of the list's largest element? Let's think step by step and output the final answer within \\\\boxed{}.\",\n",
       "  'answer': '52'},\n",
       " {'problem': \"A list of seven positive integers has a median of 5 and a mean of 15. What is the maximum possible value of the list's largest element? Let's think step by step and output the final answer within \\\\boxed{}.\",\n",
       "  'answer': '87'},\n",
       " {'problem': \"A repunit is a positive integer, all of whose digits are 1s. Let $a_{1}<a_{2}<a_{3}<\\\\ldots$ be a list of all the positive integers that can be expressed as the sum of distinct repunits. Compute $a_{111}$. Let's think step by step and output the final answer within \\\\boxed{}.\",\n",
       "  'answer': '1223456'},\n",
       " {'problem': \"Carolyn and Paul are playing a game starting with a list of the integers $1$ to $n.$ The rules of the game are:\\n\\n$\\\\bullet$  Carolyn always has the first turn.\\n\\n$\\\\bullet$  Carolyn and Paul alternate turns.\\n\\n$\\\\bullet$  On each of her turns, Carolyn must remove one number from the list such that this number has at least one positive divisor other than itself remaining in the list.\\n\\n$\\\\bullet$  On each of his turns, Paul must remove from the list all of the positive divisors of the number that Carolyn has just removed, and he can optionally choose one additional number that is a multiple of any divisor he is removing.\\n\\n$\\\\bullet$  If Carolyn cannot remove any more numbers, then Paul removes the rest of the numbers.\\n\\nFor example, if $n=8,$ a possible sequence of moves could be considered.\\n\\nSuppose that $n=8$ and Carolyn removes the integer $4$ on her first turn. Determine the sum of the numbers that Carolyn removes. Let's think step by step and output the final answer within \\\\boxed{}.\",\n",
       "  'answer': '12'},\n",
       " {'problem': \"Daniel writes over a board, from top to down, a list of positive integer numbers less or equal to 10. Next to each number of Daniel's list, Martin writes the number of times exists this number into the Daniel's list making a list with the same length. If we read the Martin's list from down to top, we get the same\\r\\nlist of numbers that Daniel wrote from top to down. Find the greatest length of the Daniel's list can have. Let's think step by step and output the final answer within \\\\boxed{}.\",\n",
       "  'answer': '10'},\n",
       " {'problem': \"Find the largest positive integer $k{}$ for which there exists a convex polyhedron $\\\\mathcal{P}$ with 2022 edges, which satisfies the following properties:\\n[list]\\n[*]The degrees of the vertices of $\\\\mathcal{P}$ don’t differ by more than one, and\\n[*]It is possible to colour the edges of $\\\\mathcal{P}$ with $k{}$ colours such that for every colour $c{}$, and every pair of vertices $(v_1, v_2)$ of $\\\\mathcal{P}$, there is a monochromatic path between $v_1$ and $v_2$ in the colour $c{}$.\\n[/list]\\n[i]Viktor Simjanoski, Macedonia[/i] Let's think step by step and output the final answer within \\\\boxed{}.\",\n",
       "  'answer': '2'},\n",
       " {'problem': \"Let $(b_1, b_2, ... b_{12})$ be a list of the 12 integers from 4 to 15 inclusive such that for each $2 \\\\le i \\\\le 12$, either $b_i + 1$ or $b_i - 1$ or both appear somewhere before $b_i$ in the list. How many such lists are there? Let's think step by step and output the final answer within \\\\boxed{}.\",\n",
       "  'answer': '2048'},\n",
       " {'problem': \"Let (b_1, b_2, ... b_7) be a list of the first 7 odd positive integers such that for each 2 ≤ i ≤ 7, either b_i + 2 or b_i - 2 (or both) must appear before b_i in the list. How many such lists are there? Let's think step by step and output the final answer within \\\\boxed{}.\",\n",
       "  'answer': '64'},\n",
       " {'problem': \"Suppose that $k \\\\geq 2$ is a positive integer. An in-shuffle is performed on a list with $2 k$ items to produce a new list of $2 k$ items in the following way: - The first $k$ items from the original are placed in the odd positions of the new list in the same order as they appeared in the original list. - The remaining $k$ items from the original are placed in the even positions of the new list, in the same order as they appeared in the original list. For example, an in-shuffle performed on the list $P Q R S T U$ gives the new list $P S Q T R U$. A second in-shuffle now gives the list $P T S R Q U$. Ping has a list of the 66 integers from 1 to 66, arranged in increasing order. He performs 1000 in-shuffles on this list, recording the new list each time. In how many of these 1001 lists is the number 47 in the 24th position? Let's think step by step and output the final answer within \\\\boxed{}.\",\n",
       "  'answer': '83'},\n",
       " {'problem': \"The arithmetic mean of seven numbers is 42. If three new numbers \\\\( x, y, \\\\) and \\\\( z \\\\) are added to the list, the mean of the ten-member list becomes 50. What is the mean of \\\\( x, y, \\\\) and \\\\( z \\\\)? Let's think step by step and output the final answer within \\\\boxed{}.\",\n",
       "  'answer': '\\\\frac{206}{3}'},\n",
       " {'problem': \"There are five positive integers that are common divisors of each number in the list $$36, 72, -24, 120, 96.$$ Find the sum of these five positive integers. Let's think step by step and output the final answer within \\\\boxed{}.\",\n",
       "  'answer': '16'},\n",
       " {'problem': \"There are many ways in which the list \\\\(0,1,2,3,4,5,6,7,8,9\\\\) can be separated into groups. For example, this list could be separated into the four groups \\\\(\\\\{0,3,4,8\\\\}\\\\), \\\\(\\\\{1,2,7\\\\}\\\\), \\\\{6\\\\}, and \\\\{5,9\\\\}. The sum of the numbers in each of these four groups is \\\\(15\\\\), \\\\(10\\\\), \\\\(6\\\\), and \\\\(14\\\\), respectively. In how many ways can the list \\\\(0,1,2,3,4,5,6,7,8,9\\\\) be separated into at least two groups so that the sum of the numbers in each group is the same? Let's think step by step and output the final answer within \\\\boxed{}.\",\n",
       "  'answer': '32'},\n",
       " {'problem': \"What is the median of the following list of $4040$ numbers?\\n\\\\[1, 2, 3, \\\\ldots, 2020, 1^2, 2^2, 3^2, \\\\ldots, 2020^2\\\\] Let's think step by step and output the final answer within \\\\boxed{}.\",\n",
       "  'answer': '1976.5'}]"
      ]
     },
     "execution_count": 46,
     "metadata": {},
     "output_type": "execute_result"
    }
   ],
   "source": [
    "tweak_dataset = [\n",
    "    {\n",
    "        'problem': r['question_text'],\n",
    "        'answer': str(r['ground_truth']),\n",
    "    }\n",
    "    for index, r in ripe.reset_index().iterrows()\n",
    "]\n",
    "len(tweak_dataset)\n",
    "tweak_dataset"
   ]
  },
  {
   "cell_type": "code",
   "execution_count": 19,
   "metadata": {},
   "outputs": [],
   "source": [
    "# # Create directory if it doesn't exist\n",
    "# dirname = os.path.dirname(OUTPUT_FILE)\n",
    "# if len(dirname.strip()) > 0:\n",
    "#     os.makedirs(dirname, exist_ok=True)\n",
    "\n",
    "# # Save to JSONL file\n",
    "# with open(OUTPUT_FILE, 'w') as f:\n",
    "#     for item in tweak_dataset:\n",
    "#         f.write(json.dumps(item) + '\\n')\n",
    "\n",
    "# print(f\"Saved {len(tweak_dataset)} records to {OUTPUT_FILE}\")"
   ]
  },
  {
   "cell_type": "code",
   "execution_count": null,
   "metadata": {},
   "outputs": [],
   "source": []
  }
 ],
 "metadata": {
  "kernelspec": {
   "display_name": "strat",
   "language": "python",
   "name": "strat"
  },
  "language_info": {
   "codemirror_mode": {
    "name": "ipython",
    "version": 3
   },
   "file_extension": ".py",
   "mimetype": "text/x-python",
   "name": "python",
   "nbconvert_exporter": "python",
   "pygments_lexer": "ipython3",
   "version": "3.9.21"
  }
 },
 "nbformat": 4,
 "nbformat_minor": 4
}
