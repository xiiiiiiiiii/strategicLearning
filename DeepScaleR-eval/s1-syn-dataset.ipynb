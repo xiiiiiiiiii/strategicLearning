{
 "cells": [
  {
   "cell_type": "code",
   "execution_count": 43,
   "id": "2552495f-c767-44b4-a359-fbc3562f9794",
   "metadata": {},
   "outputs": [],
   "source": [
    "TOY_AIME_24_QUESTIONS_FILE = \"ripe_dataset.jsonl\"\n",
    "QUESTIONS_LIM = 10\n",
    "CONCEPT_LIM = 100\n",
    "\n",
    "CONCEPTS_OUTPUT_FILE = \"../synth-data/syn-concepts.jsonl\"\n",
    "PROPERTIES_OUTPUT_FILE = \"../synth-data/syn-prop.jsonl\"\n",
    "CODE_OUTPUT_FILE = \"../synth-data/syn-gen-code.jsonl\"\n",
    "OUTPUT_FILE = \"../synth-data/syn-problems.jsonl\""
   ]
  },
  {
   "cell_type": "code",
   "execution_count": 2,
   "id": "4635f4d0-05cd-4cf7-863f-ce4827775191",
   "metadata": {},
   "outputs": [],
   "source": [
    "import json\n",
    "import ast\n",
    "import os\n",
    "import bm25s\n",
    "from datasets import load_dataset, Dataset\n",
    "import pandas as pd\n",
    "import re\n",
    "from dotenv import load_dotenv\n",
    "from groq import Groq\n",
    "# from cerebras.cloud.sdk import Cerebras"
   ]
  },
  {
   "cell_type": "code",
   "execution_count": 3,
   "id": "23e12a14",
   "metadata": {},
   "outputs": [
    {
     "data": {
      "text/plain": [
       "True"
      ]
     },
     "execution_count": 3,
     "metadata": {},
     "output_type": "execute_result"
    }
   ],
   "source": [
    "# Load environment variables from .env file\n",
    "load_dotenv()"
   ]
  },
  {
   "cell_type": "code",
   "execution_count": 21,
   "id": "828cfabd",
   "metadata": {},
   "outputs": [],
   "source": [
    "def load_jsonl(file_path):\n",
    "    with open(file_path, 'r') as f:\n",
    "        return [json.loads(line) for line in f]\n",
    "\n",
    "def save_to_jsonl(file_path, a_list):\n",
    "    # Create directory if it doesn't exist\n",
    "    dirname = os.path.dirname(file_path)\n",
    "    if len(dirname.strip()) > 0:\n",
    "        os.makedirs(dirname, exist_ok=True)\n",
    "\n",
    "    # Save to JSONL file\n",
    "    with open(file_path, 'w') as f:\n",
    "        for item in a_list:\n",
    "            f.write(json.dumps(item) + '\\n')\n",
    "\n",
    "    print(f\"Saved {len(a_list)} records to {file_path}\")"
   ]
  },
  {
   "cell_type": "markdown",
   "id": "aa06b884",
   "metadata": {},
   "source": [
    "### Debug Toy AIME 24 Questions"
   ]
  },
  {
   "cell_type": "code",
   "execution_count": 49,
   "id": "1bc79f07",
   "metadata": {},
   "outputs": [
    {
     "name": "stdout",
     "output_type": "stream",
     "text": [
      "A list of positive integers has the following properties:\n",
      "$\\bullet$ The sum of the items in the list is $30$.\n",
      "$\\bullet$ The unique mode of the list is $9$.\n",
      "$\\bullet$ The median of the list is a positive integer that does not appear in the list itself.\n",
      " Find the sum of the squares of all the items in the list. Let's think step by step and output the final answer within \\boxed{}.\n"
     ]
    }
   ],
   "source": [
    "input_questions = load_jsonl(TOY_AIME_24_QUESTIONS_FILE)\n",
    "data_with_answers = input_questions[:1]\n",
    "data_with_answers\n",
    "print(data_with_answers[0]['problem'])"
   ]
  },
  {
   "cell_type": "markdown",
   "id": "ceb1938e",
   "metadata": {},
   "source": [
    "### Load S1 data with answers"
   ]
  },
  {
   "cell_type": "code",
   "execution_count": 35,
   "id": "2e7924a8-7b69-45c7-85d0-0903460c201d",
   "metadata": {},
   "outputs": [],
   "source": [
    "# def get_questions(split=\"train\", num_samples=None) -> Dataset:\n",
    "#     data = load_dataset('simplescaling/data_ablation_full59K', split=split)\n",
    "    \n",
    "#     if num_samples is not None:\n",
    "#         # Randomly sample the specified number of examples\n",
    "#         data = data.shuffle(seed=42).select(range(min(num_samples, len(data))))\n",
    "    \n",
    "#     return data"
   ]
  },
  {
   "cell_type": "code",
   "execution_count": 36,
   "id": "724bc756-a4b4-4593-8ab3-02ccf89e5dd2",
   "metadata": {},
   "outputs": [],
   "source": [
    "# data_raw = get_questions()\n",
    "# # data_raw = get_questions(num_samples=10) # Debug\n",
    "\n",
    "# print(len(data_raw))"
   ]
  },
  {
   "cell_type": "code",
   "execution_count": 37,
   "id": "42daf216",
   "metadata": {},
   "outputs": [],
   "source": [
    "# data_with_answers = []\n",
    "# for k in range(len(data_raw)):\n",
    "#   answer = ast.literal_eval(data_raw[k]['metadata']).get('answer', None)\n",
    "#   if answer is not None:\n",
    "#     data_with_answers.append({\n",
    "#       'problem': data_raw[k]['question'],\n",
    "#       'answer': answer\n",
    "#     })\n",
    "\n",
    "# print(len(data_with_answers))"
   ]
  },
  {
   "cell_type": "code",
   "execution_count": 38,
   "id": "ef599d3f",
   "metadata": {},
   "outputs": [],
   "source": [
    "# print(data_raw[0].keys())\n",
    "# print()\n",
    "\n",
    "# for k in range(3):\n",
    "#   print(\"Question:\")\n",
    "#   print(data_with_answers[k]['problem'])\n",
    "#   print(\"Answer:\")\n",
    "#   print(data_with_answers[k]['answer'])\n",
    "#   print()"
   ]
  },
  {
   "cell_type": "markdown",
   "id": "8483a382",
   "metadata": {},
   "source": [
    "### Use Inference APIs to generate math concepts used."
   ]
  },
  {
   "cell_type": "code",
   "execution_count": 39,
   "id": "a99e0072",
   "metadata": {},
   "outputs": [],
   "source": [
    "groq_client = Groq()\n",
    "\n",
    "def run_groq_inference_qwq_32b(groq_client, prompt):\n",
    "    completion = groq_client.chat.completions.create(\n",
    "        model=\"qwen-qwq-32b\",\n",
    "        messages=[\n",
    "            {\n",
    "                \"role\": \"user\",\n",
    "                \"content\": prompt\n",
    "            },\n",
    "        ],\n",
    "        temperature=0.6,\n",
    "        max_completion_tokens=131072,\n",
    "        top_p=0.9,\n",
    "        stream=False,\n",
    "        stop=None,\n",
    "    )\n",
    "    return completion.choices[0].message.content\n",
    "\n",
    "def extract_after_think(text):\n",
    "    # Find the last occurrence of </think> and extract everything after it\n",
    "    pattern = r'</think>(.*?)$'\n",
    "    match = re.search(pattern, text, re.DOTALL)  # re.DOTALL to match newlines\n",
    "    if match:\n",
    "        return match.group(1).strip()\n",
    "    else:\n",
    "        return None"
   ]
  },
  {
   "cell_type": "code",
   "execution_count": 53,
   "id": "895a584a",
   "metadata": {},
   "outputs": [
    {
     "name": "stdout",
     "output_type": "stream",
     "text": [
      "====================================================================================================\n",
      "Prompt:\n",
      "\n",
      "  What are the math concepts used in the problem below?\n",
      "\n",
      "  Don't solve problem, just give the math concepts used as a json list.\n",
      "\n",
      "  Please only return the math concepts used as a json list, nothing else.\n",
      "\n",
      "  Example answers: [\"median\", \"mode\", \"sum of squares\", ...], [\"subsets\", \"permutations\", \"combinations\", ...], [\"linear equations\", \"systems of equations\", \"substitution\", ...], etc.\n",
      "\n",
      "  A list of positive integers has the following properties:\n",
      "$\\bullet$ The sum of the items in the list is $30$.\n",
      "$\\bullet$ The unique mode of the list is $9$.\n",
      "$\\bullet$ The median of the list is a positive integer that does not appear in the list itself.\n",
      " Find the sum of the squares of all the items in the list. Let's think step by step and output the final answer within \\boxed{}.\n",
      "  \n",
      "\n",
      "Answer:\n",
      "[\"sum\", \"mode\", \"median\", \"sum of squares\"]\n",
      "\n",
      "Saved 4 records to ../synth-data/syn-concepts.jsonl\n"
     ]
    }
   ],
   "source": [
    "all_concepts = set()\n",
    "num_questions = min(len(data_with_answers), QUESTIONS_LIM) if QUESTIONS_LIM else len(data_with_answers)\n",
    "\n",
    "for k in range(min(len(data_with_answers), 10)):\n",
    "  prompt = f\"\"\"\n",
    "  What are the math concepts used in the problem below?\n",
    "\n",
    "  Don't solve problem, just give the math concepts used as a json list.\n",
    "\n",
    "  Please only return the math concepts used as a json list, nothing else.\n",
    "\n",
    "  Example answers: [\"median\", \"mode\", \"sum of squares\", ...], [\"subsets\", \"permutations\", \"combinations\", ...], [\"linear equations\", \"systems of equations\", \"substitution\", ...], etc.\n",
    "\n",
    "  {data_with_answers[k]['problem']}\n",
    "  \"\"\"\n",
    "  print(\"=\"*100)\n",
    "  print(\"Prompt:\")\n",
    "  print(prompt)\n",
    "  think_answer = run_groq_inference_qwq_32b(groq_client, prompt)\n",
    "  answer = extract_after_think(think_answer)\n",
    "  print(\"\\nAnswer:\")\n",
    "  print(answer)\n",
    "  print()\n",
    "  if answer is not None:\n",
    "    concepts = json.loads(answer)\n",
    "    for concept in concepts:\n",
    "      if concept not in all_concepts:\n",
    "        all_concepts.add(concept)\n",
    "  \n",
    "  save_to_jsonl(CONCEPTS_OUTPUT_FILE, all_concepts)\n"
   ]
  },
  {
   "cell_type": "code",
   "execution_count": 54,
   "id": "83106491",
   "metadata": {},
   "outputs": [
    {
     "name": "stdout",
     "output_type": "stream",
     "text": [
      "====================================================================================================\n",
      "Prompt:\n",
      "\n",
      "  Please list key math properties for the concept below.\n",
      "\n",
      "  Don't solve a problem, just give all key math properties as a json list.\n",
      "\n",
      "  Please only return the all key math properties as a json list, nothing else.\n",
      "\n",
      "  Example answer for input \"logarithm math properties\": [\"log_b(a) = c if and only if b^c = a\", \"mode\", \"log_b(M*N) = log_b(M) + log_b(N) (Product Rule)\", ...]\n",
      "\n",
      "  mode\n",
      "  \n",
      "\n",
      "Answer:\n",
      "[\"The mode is the value that appears most frequently in a dataset.\", \"A dataset can be unimodal (one mode), bimodal (two modes), trimodal (three modes), or multimodal (multiple modes).\", \"A dataset where all values occur with the same frequency has no mode.\", \"The mode can be applied to both qualitative (categorical) and quantitative data.\", \"The mode is not influenced by extreme values or outliers.\", \"In a histogram, the mode corresponds to the bin(s) with the highest frequency.\", \"The mode is one of the three common measures of central tendency, alongside the mean and median.\"]\n",
      "\n",
      "====================================================================================================\n",
      "Prompt:\n",
      "\n",
      "  Please list key math properties for the concept below.\n",
      "\n",
      "  Don't solve a problem, just give all key math properties as a json list.\n",
      "\n",
      "  Please only return the all key math properties as a json list, nothing else.\n",
      "\n",
      "  Example answer for input \"logarithm math properties\": [\"log_b(a) = c if and only if b^c = a\", \"mode\", \"log_b(M*N) = log_b(M) + log_b(N) (Product Rule)\", ...]\n",
      "\n",
      "  sum\n",
      "  \n",
      "\n",
      "Answer:\n",
      "[\"Commutative Property: a + b = b + a\", \"Associative Property: (a + b) + c = a + (b + c)\", \"Identity Element: a + 0 = a\", \"Inverse Element: a + (-a) = 0\", \"Distributive Property: a(b + c) = ab + ac\", \"Additive Cancellation: If a + b = a + c, then b = c\", \"Monotonicity: If a > b, then a + c > b + c for real numbers\", \"Summation Notation: Σ (sigma) represents the sum of a sequence\", \"Arithmetic Series Formula: Sum of n terms = n/2*(first term + last term)\", \"Sum of Consecutive Integers: 1 + 2 + ... + n = n(n + 1)/2\"]\n",
      "\n",
      "====================================================================================================\n",
      "Prompt:\n",
      "\n",
      "  Please list key math properties for the concept below.\n",
      "\n",
      "  Don't solve a problem, just give all key math properties as a json list.\n",
      "\n",
      "  Please only return the all key math properties as a json list, nothing else.\n",
      "\n",
      "  Example answer for input \"logarithm math properties\": [\"log_b(a) = c if and only if b^c = a\", \"mode\", \"log_b(M*N) = log_b(M) + log_b(N) (Product Rule)\", ...]\n",
      "\n",
      "  median\n",
      "  \n",
      "\n",
      "Answer:\n",
      "[\n",
      "  \"The median is the middle value in an ordered list of numerical data.\",\n",
      "  \"For an odd number of observations, the median is the value at the (n+1)/2 position in the ordered list.\",\n",
      "  \"For an even number of observations, the median is the average of the values at the n/2 and (n/2 + 1) positions in the ordered list.\",\n",
      "  \"The median is a measure of central tendency that is resistant to outliers.\",\n",
      "  \"The median minimizes the sum of absolute deviations from it among all possible values.\",\n",
      "  \"The median splits the dataset into two equal halves, with half the values less than or equal to it and half greater than or equal to it.\",\n",
      "  \"The median is uniquely determined for a given dataset, even if there are duplicate values.\",\n",
      "  \"The median does not depend on the actual numerical values, only their order in the dataset.\"\n",
      "]\n",
      "\n",
      "====================================================================================================\n",
      "Prompt:\n",
      "\n",
      "  Please list key math properties for the concept below.\n",
      "\n",
      "  Don't solve a problem, just give all key math properties as a json list.\n",
      "\n",
      "  Please only return the all key math properties as a json list, nothing else.\n",
      "\n",
      "  Example answer for input \"logarithm math properties\": [\"log_b(a) = c if and only if b^c = a\", \"mode\", \"log_b(M*N) = log_b(M) + log_b(N) (Product Rule)\", ...]\n",
      "\n",
      "  sum of squares\n",
      "  \n",
      "\n",
      "Answer:\n",
      "[\"The sum of the squares of the first n natural numbers is n(n+1)(2n+1)/6\", \"The sum of squares is commutative: a² + b² = b² + a²\", \"The sum of squares is always non-negative since squares are non-negative\", \"In a right-angled triangle, the sum of the squares of the legs equals the square of the hypotenuse (Pythagorean theorem)\", \"Cauchy-Schwarz inequality: (Σa_i*b_i)² ≤ (Σa_i²)(Σb_i²)\", \"A sum of squares cannot be factored into real polynomials unless individual squares are factored separately\", \"The quadratic mean (root mean square) is always greater than or equal to the arithmetic mean\", \"Lagrange's four-square theorem: Every natural number can be represented as the sum of four integer squares\", \"The variance of a dataset is calculated using the sum of squared deviations from the mean\", \"The L2 norm of a vector is the square root of the sum of the squares of its components\"]\n",
      "\n",
      "Saved 35 records to ../synth-data/syn-prop.jsonl\n"
     ]
    }
   ],
   "source": [
    "all_properties = set()\n",
    "all_concepts_list = list(all_concepts)\n",
    "num_concepts = min(len(all_concepts), CONCEPT_LIM) if CONCEPT_LIM else len(all_concepts)\n",
    "\n",
    "for k in range(num_concepts):\n",
    "  prompt = f\"\"\"\n",
    "  Please list key math properties for the concept below.\n",
    "\n",
    "  Don't solve a problem, just give all key math properties as a json list.\n",
    "\n",
    "  Please only return the all key math properties as a json list, nothing else.\n",
    "\n",
    "  Example answer for input \"logarithm math properties\": [\"log_b(a) = c if and only if b^c = a\", \"mode\", \"log_b(M*N) = log_b(M) + log_b(N) (Product Rule)\", ...]\n",
    "\n",
    "  {all_concepts_list[k]}\n",
    "  \"\"\"\n",
    "  print(\"=\"*100)\n",
    "  print(\"Prompt:\")\n",
    "  print(prompt)\n",
    "  think_answer = run_groq_inference_qwq_32b(groq_client, prompt)\n",
    "  answer = extract_after_think(think_answer)\n",
    "  print(\"\\nAnswer:\")\n",
    "  print(answer)\n",
    "  print()\n",
    "  if answer is not None:\n",
    "    properties = json.loads(answer)\n",
    "    for property in properties:\n",
    "      if property not in all_properties:\n",
    "        all_properties.add(property)\n",
    "  \n",
    "save_to_jsonl(PROPERTIES_OUTPUT_FILE, all_properties)"
   ]
  },
  {
   "cell_type": "code",
   "execution_count": null,
   "id": "dfec4013",
   "metadata": {},
   "outputs": [],
   "source": []
  },
  {
   "cell_type": "code",
   "execution_count": null,
   "id": "3939715c",
   "metadata": {},
   "outputs": [],
   "source": []
  },
  {
   "cell_type": "code",
   "execution_count": null,
   "id": "890cda8b",
   "metadata": {},
   "outputs": [],
   "source": []
  }
 ],
 "metadata": {
  "kernelspec": {
   "display_name": "strat",
   "language": "python",
   "name": "python3"
  },
  "language_info": {
   "codemirror_mode": {
    "name": "ipython",
    "version": 3
   },
   "file_extension": ".py",
   "mimetype": "text/x-python",
   "name": "python",
   "nbconvert_exporter": "python",
   "pygments_lexer": "ipython3",
   "version": "3.9.21"
  }
 },
 "nbformat": 4,
 "nbformat_minor": 5
}
