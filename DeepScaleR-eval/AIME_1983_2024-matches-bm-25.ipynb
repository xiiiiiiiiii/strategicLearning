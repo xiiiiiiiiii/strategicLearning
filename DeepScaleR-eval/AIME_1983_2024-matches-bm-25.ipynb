{
 "cells": [
  {
   "cell_type": "code",
   "execution_count": 1,
   "id": "2552495f-c767-44b4-a359-fbc3562f9794",
   "metadata": {},
   "outputs": [],
   "source": [
    "K_CLOSEST_MATCHES_RAW = 100\n",
    "OUTPUT_FILE = \"../mod_microskills/val_dataset.jsonl\"\n",
    "GOLDEN_ANSWER = 495\n",
    "TOTAL_PROBLEMS_DESIRED = 30"
   ]
  },
  {
   "cell_type": "code",
   "execution_count": 2,
   "id": "4635f4d0-05cd-4cf7-863f-ce4827775191",
   "metadata": {},
   "outputs": [],
   "source": [
    "import json\n",
    "import os\n",
    "import bm25s\n",
    "from datasets import load_dataset, Dataset\n",
    "import pandas as pd"
   ]
  },
  {
   "cell_type": "code",
   "execution_count": 3,
   "id": "2e7924a8-7b69-45c7-85d0-0903460c201d",
   "metadata": {},
   "outputs": [],
   "source": [
    "def get_di_AIME_1983_2024_questions(split=\"train\", num_samples=None) -> Dataset:\n",
    "    data = load_dataset('di-zhang-fdu/AIME_1983_2024', split=split)\n",
    "    \n",
    "    if num_samples is not None:\n",
    "        # Randomly sample the specified number of examples\n",
    "        data = data.shuffle(seed=42).select(range(min(num_samples, len(data))))\n",
    "    \n",
    "    return data"
   ]
  },
  {
   "cell_type": "code",
   "execution_count": 4,
   "id": "21a01d4e-13b0-4c33-a57e-9f364845a5f4",
   "metadata": {},
   "outputs": [],
   "source": [
    "data_raw = get_di_AIME_1983_2024_questions()\n",
    "# data_raw = get_di_AIME_1983_2024_questions(num_samples=10) # Debug"
   ]
  },
  {
   "cell_type": "code",
   "execution_count": 5,
   "id": "938599db-def1-4f8a-8558-291d603c2d89",
   "metadata": {},
   "outputs": [],
   "source": [
    "data_1983_2023 = [r for r in data_raw if r['Year'] < 2024]"
   ]
  },
  {
   "cell_type": "code",
   "execution_count": 6,
   "id": "49030fe1-393d-463a-8a69-6e28b9038fa6",
   "metadata": {},
   "outputs": [
    {
     "name": "stdout",
     "output_type": "stream",
     "text": [
      "A list of positive integers has the following properties: $\\bullet$ The sum of the items in the list is $30$ . $\\bullet$ The unique mode of the list is $9$ . $\\bullet$ The median of the list is a positive integer that does not appear in the list itself. Find the sum of the squares of all the items in the list.\n"
     ]
    }
   ],
   "source": [
    "aime_2024_median_mode_question = [r for r in data_raw if r['Year'] == 2024 and r['Problem Number'] == 2][0]['Question']\n",
    "print(aime_2024_median_mode_question)"
   ]
  },
  {
   "cell_type": "markdown",
   "id": "0d482248-3e82-426e-9f51-dd7a9e87c5c0",
   "metadata": {},
   "source": [
    "### Index Records"
   ]
  },
  {
   "cell_type": "code",
   "execution_count": 7,
   "id": "5b8fa558-86d9-4daa-8d38-70efee2440b5",
   "metadata": {},
   "outputs": [
    {
     "data": {
      "text/plain": [
       "{'ID': '1983-1',\n",
       " 'Year': 1983,\n",
       " 'Problem Number': 1,\n",
       " 'Question': 'Let $x$ , $y$ and $z$ all exceed $1$ and let $w$ be a positive number such that $\\\\log_xw=24$ , $\\\\log_y w = 40$ and $\\\\log_{xyz}w=12$ . Find $\\\\log_zw$ .',\n",
       " 'Answer': '60',\n",
       " 'Part': None}"
      ]
     },
     "execution_count": 7,
     "metadata": {},
     "output_type": "execute_result"
    }
   ],
   "source": [
    "data = {i: {**record} for i, record in enumerate(data_1983_2023)}\n",
    "data[0]"
   ]
  },
  {
   "cell_type": "markdown",
   "id": "564cd1be-4547-4200-9779-a4a825152422",
   "metadata": {},
   "source": [
    "### Toy BM25 Search"
   ]
  },
  {
   "cell_type": "code",
   "execution_count": 8,
   "id": "849e7726-06b5-4d8d-bd72-90f6809a3d0d",
   "metadata": {},
   "outputs": [
    {
     "name": "stdout",
     "output_type": "stream",
     "text": [
      "(0, 'a cat is a feline and likes to purr')\n",
      "(1, \"a dog is the human's best friend and loves to play\")\n",
      "(2, 'a bird is a beautiful animal that can fly')\n",
      "(3, 'a fish is a creature that lives in water and swims')\n"
     ]
    },
    {
     "data": {
      "application/vnd.jupyter.widget-view+json": {
       "model_id": "",
       "version_major": 2,
       "version_minor": 0
      },
      "text/plain": [
       "Split strings:   0%|          | 0/4 [00:00<?, ?it/s]"
      ]
     },
     "metadata": {},
     "output_type": "display_data"
    },
    {
     "data": {
      "application/vnd.jupyter.widget-view+json": {
       "model_id": "",
       "version_major": 2,
       "version_minor": 0
      },
      "text/plain": [
       "BM25S Count Tokens:   0%|          | 0/4 [00:00<?, ?it/s]"
      ]
     },
     "metadata": {},
     "output_type": "display_data"
    },
    {
     "data": {
      "application/vnd.jupyter.widget-view+json": {
       "model_id": "",
       "version_major": 2,
       "version_minor": 0
      },
      "text/plain": [
       "BM25S Compute Scores:   0%|          | 0/4 [00:00<?, ?it/s]"
      ]
     },
     "metadata": {},
     "output_type": "display_data"
    },
    {
     "data": {
      "application/vnd.jupyter.widget-view+json": {
       "model_id": "",
       "version_major": 2,
       "version_minor": 0
      },
      "text/plain": [
       "Split strings:   0%|          | 0/1 [00:00<?, ?it/s]"
      ]
     },
     "metadata": {},
     "output_type": "display_data"
    },
    {
     "data": {
      "application/vnd.jupyter.widget-view+json": {
       "model_id": "",
       "version_major": 2,
       "version_minor": 0
      },
      "text/plain": [
       "BM25S Retrieve:   0%|          | 0/1 [00:00<?, ?it/s]"
      ]
     },
     "metadata": {},
     "output_type": "display_data"
    },
    {
     "name": "stdout",
     "output_type": "stream",
     "text": [
      "\n",
      "query: does the fish purr like a cat?\n",
      "0.7449: 0\n",
      "0.3389: 3\n"
     ]
    }
   ],
   "source": [
    "### Toy BM25 Search\n",
    "\n",
    "# Create your corpus here\n",
    "corpus = [\n",
    "    \"a cat is a feline and likes to purr\",\n",
    "    \"a dog is the human's best friend and loves to play\",\n",
    "    \"a bird is a beautiful animal that can fly\",\n",
    "    \"a fish is a creature that lives in water and swims\",\n",
    "]\n",
    "\n",
    "corpus_with_ids = [(idx, doc) for idx, doc in enumerate(corpus)]\n",
    "[print(idx_and_doc) for idx_and_doc in corpus_with_ids]\n",
    "corpus_ids = [idx for idx, doc in corpus_with_ids]\n",
    "\n",
    "# Create the BM25 model and index the corpus\n",
    "retriever = bm25s.BM25(corpus=corpus, method=\"robertson\") # With original method from Robertson.\n",
    "retriever.index(bm25s.tokenize(corpus))\n",
    "\n",
    "# Query the corpus and get top-k results\n",
    "query = \"does the fish purr like a cat?\"\n",
    "results, scores = retriever.retrieve(bm25s.tokenize(query), k=2, corpus=corpus_ids)\n",
    "\n",
    "# Let's see what we got!\n",
    "print(f\"\\nquery: {query}\")\n",
    "for score, result in zip(scores[0], results[0]):\n",
    "    print(f\"{score:.4f}: {result}\")"
   ]
  },
  {
   "cell_type": "markdown",
   "id": "6527b4cc-b813-49ec-b8cb-6e8de0d58329",
   "metadata": {},
   "source": [
    "### Actual BM25 Search"
   ]
  },
  {
   "cell_type": "code",
   "execution_count": 9,
   "id": "32c7954b-c0cf-47e4-9c76-ef6696e84134",
   "metadata": {},
   "outputs": [
    {
     "data": {
      "application/vnd.jupyter.widget-view+json": {
       "model_id": "",
       "version_major": 2,
       "version_minor": 0
      },
      "text/plain": [
       "Split strings:   0%|          | 0/919 [00:00<?, ?it/s]"
      ]
     },
     "metadata": {},
     "output_type": "display_data"
    },
    {
     "data": {
      "application/vnd.jupyter.widget-view+json": {
       "model_id": "",
       "version_major": 2,
       "version_minor": 0
      },
      "text/plain": [
       "BM25S Count Tokens:   0%|          | 0/919 [00:00<?, ?it/s]"
      ]
     },
     "metadata": {},
     "output_type": "display_data"
    },
    {
     "data": {
      "application/vnd.jupyter.widget-view+json": {
       "model_id": "",
       "version_major": 2,
       "version_minor": 0
      },
      "text/plain": [
       "BM25S Compute Scores:   0%|          | 0/919 [00:00<?, ?it/s]"
      ]
     },
     "metadata": {},
     "output_type": "display_data"
    }
   ],
   "source": [
    "# Initialize corpus with items from query,item pairs data as well as from random pool.\n",
    "\n",
    "corpus_docs = [v['Question'] for k, v in data.items()]\n",
    "corpus_ids = [k for k, v in data.items()]\n",
    "# print(corpus_ids[0])\n",
    "# print(corpus_docs[0])\n",
    "\n",
    "# Create the BM25 model and index the corpus\n",
    "retriever = bm25s.BM25(corpus=corpus_docs, method=\"robertson\") # With original method from Robertson.\n",
    "retriever.index(bm25s.tokenize(corpus_docs))"
   ]
  },
  {
   "cell_type": "code",
   "execution_count": 10,
   "id": "df4ad73f-da1a-442e-ab51-a1634821a4a5",
   "metadata": {
    "scrolled": true
   },
   "outputs": [
    {
     "data": {
      "application/vnd.jupyter.widget-view+json": {
       "model_id": "",
       "version_major": 2,
       "version_minor": 0
      },
      "text/plain": [
       "Split strings:   0%|          | 0/1 [00:00<?, ?it/s]"
      ]
     },
     "metadata": {},
     "output_type": "display_data"
    },
    {
     "name": "stdout",
     "output_type": "stream",
     "text": [
      "\n",
      "query: integer sum\n",
      "\n",
      "2.2089: For any positive integer $a,$ $\\sigma(a)$ denotes the sum of the positive integer divisors of $a$ . Let $n$ be the least positive integer such that $\\sigma(a^n)-1$ is divisible by $2021$ for all positive integers $a$ . Find the sum of the prime factors in the prime factorization of $n$ . (solution:125, year:2021, part:I, problem number:14)\n",
      "\n",
      "2.1416: What is the smallest positive integer than can be expressed as the sum of nine consecutive integers, the sum of ten consecutive integers, and the sum of eleven consecutive integers?  (solution:495, year:1993, part:None, problem number:6)\n",
      "\n",
      "2.1049: What is the largest positive integer that is not the sum of a positive integral multiple of 42 and a positive composite integer? (solution:215, year:1995, part:None, problem number:10)\n",
      "\n",
      "2.0730: For positive integer $n$ , let $s(n)$ denote the sum of the digits of $n$ .  Find the smallest positive integer satisfying $s(n) = s(n+864) = 20$ . (solution:695, year:2015, part:I, problem number:8)\n",
      "\n",
      "2.0081: Let $x=\\frac{\\sum\\limits_{n=1}^{44} \\cos n^\\circ}{\\sum\\limits_{n=1}^{44} \\sin n^\\circ}$ . What is the greatest integer that does not exceed $100x$ ? (solution:241, year:1997, part:None, problem number:11)\n",
      "\n",
      "1.9929: Find the sum of all positive integers $n$ such that $\\sqrt{n^2+85n+2017}$ is an integer. (solution:195, year:2017, part:II, problem number:6)\n",
      "\n",
      "1.9829: Find the sum of all positive integers $b < 1000$ such that the base- $b$ integer $36_{b}$ is a perfect square and the base- $b$ integer $27_{b}$ is a perfect cube. (solution:371, year:2018, part:II, problem number:3)\n",
      "\n",
      "1.9820: Two positive integers differ by $60.$ The sum of their square roots is the square root of an integer that is not a perfect square. What is the maximum possible sum of the two integers? (solution:156, year:2003, part:II, problem number:10)\n",
      "\n",
      "1.9273: Let $S_n$ be the sum of the reciprocals of the non-zero digits of the integers from $1$ to $10^n$ inclusive. Find the smallest positive integer $n$ for which $S_n$ is an integer. (solution:63, year:2006, part:II, problem number:14)\n",
      "\n",
      "1.9169: Let $m$ be the least positive integer divisible by $17$ whose digits sum to $17$ . Find $m$ . (solution:476, year:2015, part:II, problem number:3)\n",
      "\n",
      "1.9169: What is the largest even integer that cannot be written as the sum of two odd composite numbers?  (solution:38, year:1984, part:None, problem number:14)\n",
      "\n",
      "1.9076: An integer between $1000$ and $9999,$ inclusive, is called balanced if the sum of its two leftmost digits equals the sum of its two rightmost digits. How many balanced integers are there? (solution:615, year:2003, part:I, problem number:9)\n",
      "\n",
      "1.8810: Let $S$ be the sum of the base $10$ logarithms of all the proper divisors of $1000000$ . What is the integer nearest to $S$ ? (solution:141, year:1986, part:None, problem number:8)\n",
      "\n",
      "1.7837: There exists a unique positive integer $a$ for which the sum \\[U=\\sum_{n=1}^{2023}\\left\\lfloor\\dfrac{n^{2}-na}{5}\\right\\rfloor\\] is an integer strictly between $-1000$ and $1000$ . For that unique $a$ , find $a+U$ . (Note that $\\lfloor x\\rfloor$ denotes the greatest integer that is less than or equal to $x$ .) (solution:944, year:2023, part:I, problem number:10)\n",
      "\n",
      "1.7500: Consider the integer \\[N = 9 + 99 + 999 + 9999 + \\cdots + \\underbrace{99\\ldots 99}_\\text{321 digits}.\\] Find the sum of the digits of $N$ . (solution:342, year:2019, part:I, problem number:1)\n",
      "\n",
      "1.7500: Let $\\tau(n)$ denote the number of positive integer divisors of $n$ . Find the sum of the six least positive integers $n$ that are solutions to $\\tau (n) + \\tau (n+1) = 7$ . (solution:540, year:2019, part:I, problem number:9)\n",
      "\n",
      "1.6911: For any positive integer $k$ , let $f_1(k)$ denote the square of the sum of the digits of $k$ .  For $n \\ge 2$ , let $f_n(k) = f_1(f_{n - 1}(k))$ .  Find $f_{1988}(11)$ . (solution:169, year:1988, part:None, problem number:2)\n",
      "\n",
      "1.6743: For each positive integer $n$ , let $f(n)$ be the sum of the digits in the base-four representation of $n$ and let $g(n)$ be the sum of the digits in the base-eight representation of $f(n)$ . For example, $f(2020) = f(133210_{\\text{4}}) = 10 = 12_{\\text{8}}$ , and $g(2020) = \\text{the digit sum of }12_{\\text{8}} = 3$ . Let $N$ be the least value of $n$ such that the base-sixteen representation of $g(n)$ cannot be expressed using only the digits $0$ through $9$ . Find the remainder when $N$ is divided by $1000$ . (solution:151, year:2020, part:II, problem number:5)\n",
      "\n",
      "1.6631: Let $S$ be the sum of all numbers of the form $\\frac{a}{b}$ , where $a$ and $b$ are relatively prime positive divisors of $1000.$ What is the greatest integer that does not exceed $\\frac{S}{10}$ ? (solution:248, year:2000, part:I, problem number:11)\n",
      "\n",
      "1.6360: The digits of a positive integer $n$ are four consecutive integers in decreasing order when read from left to right. What is the sum of the possible remainders when $n$ is divided by 37? (solution:217, year:2004, part:I, problem number:1)\n",
      "\n",
      "1.6360: Let $R$ be the set of all possible remainders when a number of the form $2^n$ , $n$ a nonnegative integer, is divided by 1000. Let $S$ be the sum of the elements in $R$ . Find the remainder when $S$ is divided by 1000. (solution:7, year:2011, part:I, problem number:11)\n",
      "\n",
      "1.6098: For any positive integer $x_{}$ , let $S(x)$ be the sum of the digits of $x_{}$ , and let $T(x)$ be $|S(x+2)-S(x)|.$ For example, $T(199)=|S(201)-S(199)|=|3-19|=16.$ How many values of $T(x)$ do not exceed 1999? (solution:223, year:1999, part:None, problem number:5)\n",
      "\n",
      "1.6098: For each integer $n\\geq3$ , let $f(n)$ be the number of $3$ -element subsets of the vertices of a regular $n$ -gon that are the vertices of an isosceles triangle (including equilateral triangles). Find the sum of all values of $n$ such that $f(n+1)=f(n)+78$ . (solution:245, year:2017, part:II, problem number:13)\n",
      "\n",
      "1.5360: Call a positive integer $n$ $k$ - pretty if $n$ has exactly $k$ positive divisors and $n$ is divisible by $k$ . For example, $18$ is $6$ -pretty. Let $S$ be the sum of the positive integers less than $2019$ that are $20$ -pretty. Find $\\tfrac{S}{20}$ . (solution:472, year:2019, part:II, problem number:9)\n",
      "\n",
      "1.4705: The sum of the following seven numbers is exactly 19: $a_1 = 2.56$ , $a_2 = 2.61$ , $a_3 = 2.65$ , $a_4 = 2.71$ , $a_5 = 2.79$ , $a_6 = 2.82$ , $a_7 = 2.86$ . It is desired to replace each $a_i$ by an integer approximation $A_i$ , $1\\le i \\le 7$ , so that the sum of the $A_i$ 's is also $19$ and so that $M$ , the maximum of the \"errors\" $\\lvert A_i-a_i \\rvert$ , is as small as possible. For this minimum $M$ , what is $100M$ ? (solution:61, year:1985, part:None, problem number:8)\n",
      "\n",
      "1.4681: The product $N$ of three positive integers is 6 times their sum, and one of the integers is the sum of the other two. Find the sum of all possible values of $N$ . (solution:336, year:2003, part:II, problem number:1)\n",
      "\n",
      "1.4558: The sum of the first $2011$ terms of a geometric sequence is $200$ . The sum of the first $4022$ terms is $380$ . Find the sum of the first $6033$ terms. (solution:542, year:2011, part:II, problem number:5)\n",
      "\n",
      "1.4325: Let the sum of a set of numbers be the sum of its elements. Let $S$ be a set of positive integers, none greater than 15. Suppose no two disjoint subsets of $S$ have the same sum. What is the largest sum a set $S$ with these properties can have? (solution:61, year:1986, part:None, problem number:12)\n",
      "\n",
      "1.3502: A sequence of numbers $x_{1},x_{2},x_{3},\\ldots,x_{100}$ has the property that, for every integer $k$ between $1$ and $100,$ inclusive, the number $x_{k}$ is $k$ less than the sum of the other $99$ numbers. Given that $x_{50} = \\frac{m}{n}$ , where $m$ and $n$ are relatively prime positive integers, find $m + n$ . (solution:173, year:2000, part:I, problem number:10)\n",
      "\n",
      "1.3307: Suppose that the sum of the squares of two complex numbers $x$ and $y$ is $7$ and the sum of the cubes is $10$ . What is the largest real value that $x + y$ can have? (solution:4, year:1983, part:None, problem number:5)\n",
      "\n",
      "1.3221: A sequence of integers $a_1, a_2, a_3, \\ldots$ is chosen so that $a_n = a_{n - 1} - a_{n - 2}$ for each $n \\ge 3$ . What is the sum of the first $2001$ terms of this sequence if the sum of the first $1492$ terms is $1985$ , and the sum of the first $1985$ terms is $1492$ ? (solution:986, year:1985, part:None, problem number:5)\n",
      "\n",
      "1.3021: For $\\{1, 2, 3, \\ldots, n\\}$ and each of its nonempty subsets a unique alternating sum is defined as follows. Arrange the numbers in the subset in decreasing order and then, beginning with the largest, alternately add and subtract succesive numbers. For example, the alternating sum for $\\{1, 2, 3, 6,9\\}$ is $9-6+3-2+1=5$ and for $\\{5\\}$ it is simply $5$ . Find the sum of all such alternating sums for $n=7$ . (solution:448, year:1983, part:None, problem number:13)\n",
      "\n",
      "1.2979: The terms of an arithmetic sequence add to $715$ . The first term of the sequence is increased by $1$ , the second term is increased by $3$ , the third term is increased by $5$ , and in general, the $k$ th term is increased by the $k$ th odd positive integer. The terms of the new sequence add to $836$ . Find the sum of the first, last, and middle term of the original sequence. (solution:195, year:2012, part:I, problem number:2)\n",
      "\n",
      "1.2862: How many different $4\\times 4$ arrays whose entries are all 1's and -1's have the property that the sum of the entries in each row is 0 and the sum of the entries in each column is 0? (solution:90, year:1997, part:None, problem number:8)\n",
      "\n",
      "1.2652: Consider the sequence $(a_k)_{k\\ge 1}$ of positive rational numbers defined by $a_1 = \\frac{2020}{2021}$ and for $k\\ge 1$ , if $a_k = \\frac{m}{n}$ for relatively prime positive integers $m$ and $n$ , then \\[a_{k+1} = \\frac{m + 18}{n+19}.\\] Determine the sum of all positive integers $j$ such that the rational number $a_j$ can be written in the form $\\frac{t}{t+1}$ for some positive integer $t$ . (solution:59, year:2021, part:I, problem number:10)\n",
      "\n",
      "1.2581: There are nonzero integers $a$ , $b$ , $r$ , and $s$ such that the complex number $r+si$ is a zero of the polynomial $P(x)={x}^{3}-a{x}^{2}+bx-65$ . For each possible combination of $a$ and $b$ , let ${p}_{a,b}$ be the sum of the zeros of $P(x)$ . Find the sum of the ${p}_{a,b}$ 's for all possible combinations of $a$ and $b$ . (solution:80, year:2013, part:I, problem number:10)\n",
      "\n",
      "1.2369: Let $S$ be the set of all positive rational numbers $r$ such that when the two numbers $r$ and $55r$ are written as fractions in lowest terms, the sum of the numerator and denominator of one fraction is the same as the sum of the numerator and denominator of the other fraction. The sum of all the elements of $S$ can be expressed in the form $\\frac{p}{q},$ where $p$ and $q$ are relatively prime positive integers. Find $p+q.$ (solution:719, year:2023, part:II, problem number:5)\n",
      "\n",
      "1.2054: Set $A$ consists of $m$ consecutive integers whose sum is $2m,$ and set $B$ consists of $2m$ consecutive integers whose sum is $m.$ The absolute value of the difference between the greatest element of $A$ and the greatest element of $B$ is 99. Find $m.$ (solution:201, year:2004, part:I, problem number:2)\n",
      "\n",
      "1.1687: Call a three-term strictly increasing arithmetic sequence of integers special if the sum of the squares of the three terms equals the product of the middle term and the square of the common difference. Find the sum of the third terms of all special sequences.  (solution:31, year:2021, part:I, problem number:5)\n",
      "\n",
      "1.1652: What is the sum of the solutions to the equation $\\sqrt[4]{x} = \\frac{12}{7 - \\sqrt[4]{x}}$ ? (solution:337, year:1986, part:None, problem number:1)\n",
      "\n",
      "1.1342: Find the number of four-element subsets of $\\{1,2,3,4,\\dots, 20\\}$ with the property that two distinct elements of a subset have a sum of $16$ , and two distinct elements of a subset have a sum of $24$ . For example, $\\{3,5,13,19\\}$ and $\\{6,10,20,18\\}$ are two such subsets. (solution:210, year:2018, part:I, problem number:9)\n",
      "\n",
      "1.1316: For any finite set $X,$ let $|X|$ denote the number of elements in $X.$ Define \\[S_n = \\sum |A \\cap B|,\\] where the sum is taken over all ordered pairs $(A,B)$ such that $A$ and $B$ are subsets of $\\{1,2,3,\\ldots,n\\}$ with $|A|=|B|.$ For example, $S_2 = 4$ because the sum is taken over the pairs of subsets \\[(A,B) \\in \\left\\{(\\emptyset,\\emptyset),(\\{1\\},\\{1\\}),(\\{1\\},\\{2\\}),(\\{2\\},\\{1\\}),(\\{2\\},\\{2\\}),(\\{1,2\\},\\{1,2\\})\\right\\},\\] giving $S_2 = 0+1+0+0+1+2=4.$ Let $\\frac{S_{2022}}{S_{2021}} = \\frac{p}{q},$ where $p$ and $q$ are relatively prime positive integers. Find the remainder when $p+q$ is divided by $1000.$ (solution:245, year:2022, part:I, problem number:12)\n",
      "\n",
      "1.1231: An infinite geometric series has sum 2005. A new series, obtained by squaring each term of the original series, has 10 times the sum of the original series. The common ratio of the original series is $\\frac mn$ where $m$ and $n$ are relatively prime integers. Find $m+n.$ (solution:802, year:2005, part:II, problem number:3)\n",
      "\n",
      "1.1199: Find the sum of all positive integers $n$ for which $n^2-19n+99$ is a perfect square. (solution:38, year:1999, part:None, problem number:3)\n",
      "\n",
      "1.1199: Find the sum of all positive integers $n$ such that when $1^3+2^3+3^3+\\cdots +n^3$ is divided by $n+5$ , the remainder is $17$ . (solution:239, year:2020, part:II, problem number:10)\n",
      "\n",
      "1.1199: Find the sum of all positive two-digit integers that are divisible by each of their digits.  (solution:630, year:2001, part:I, problem number:1)\n",
      "\n",
      "1.1126: Find the least positive integer such that when its leftmost digit is deleted, the resulting integer is $1/29$ of the original integer. (solution:725, year:2006, part:I, problem number:3)\n",
      "\n",
      "1.1126: What is the smallest positive integer with six positive odd integer divisors and twelve positive even integer divisors?  (solution:180, year:2000, part:II, problem number:4)\n",
      "\n",
      "1.1123: Let $ABCD$ be a convex quadrilateral with $AB = CD = 10$ , $BC = 14$ , and $AD = 2\\sqrt{65}$ . Assume that the diagonals of $ABCD$ intersect at point $P$ , and that the sum of the areas of triangles $APB$ and $CPD$ equals the sum of the areas of triangles $BPC$ and $APD$ . Find the area of quadrilateral $ABCD$ . (solution:112, year:2018, part:II, problem number:12)\n",
      "\n",
      "1.0985: Find the largest possible value of $k$ for which $3^{11}$ is expressible as the sum of $k$ consecutive positive integers. (solution:486, year:1987, part:None, problem number:11)\n",
      "\n",
      "1.0875: When each of $702$ , $787$ , and $855$ is divided by the positive integer $m$ , the remainder is always the positive integer $r$ . When each of $412$ , $722$ , and $815$ is divided by the positive integer $n$ , the remainder is always the positive integer $s \\neq r$ . Find $m+n+r+s$ . (solution:62, year:2017, part:I, problem number:2)\n",
      "\n"
     ]
    }
   ],
   "source": [
    "# Test\n",
    "query = 'integer sum' # aime_2024_median_mode_question\n",
    "# gold_answer = '236' # to filter out anything with same answer.\n",
    "tokenized_query = bm25s.tokenize(query)\n",
    "\n",
    "results, scores = retriever.retrieve(\n",
    "    tokenized_query, k=(K_CLOSEST_MATCHES_RAW+100), corpus=corpus_ids, show_progress=False, # return_as=\"documents\", \n",
    ")\n",
    "results\n",
    "# ' '.join(results[0])\n",
    "\n",
    "# Let's see what we got!\n",
    "print(f\"\\nquery: {query}\\n\")\n",
    "i = 0\n",
    "for score, result in zip(scores[0], results[0]):\n",
    "    if i > 50:\n",
    "        break\n",
    "    else:\n",
    "        i += 1\n",
    "    print(f\"{score:.4f}: {data[result]['Question']} (solution:{data[result]['Answer']}, year:{data[result]['Year']}, part:{data[result]['Part']}, problem number:{data[result]['Problem Number']})\\n\")"
   ]
  },
  {
   "cell_type": "markdown",
   "id": "db5cb582-1953-484d-95f3-b488c524e1d5",
   "metadata": {},
   "source": [
    "### Selected Question"
   ]
  },
  {
   "cell_type": "code",
   "execution_count": 11,
   "id": "e4e93cb3-8f91-4eac-ab8e-59e22f67ab64",
   "metadata": {},
   "outputs": [
    {
     "data": {
      "text/plain": [
       "[{'problem': \"What is the smallest positive integer than can be expressed as the sum of nine consecutive integers, the sum of ten consecutive integers, and the sum of eleven consecutive integers?  Let's think step by step and output the final answer within \\\\boxed{}.\",\n",
       "  'answer': '495'}]"
      ]
     },
     "execution_count": 11,
     "metadata": {},
     "output_type": "execute_result"
    }
   ],
   "source": [
    "# (solution:495, year:1993, part:None, problem number:6)\n",
    "aime_p = [r for r in data_raw if r['Year'] == 1993 and r['Problem Number'] == 6][0]\n",
    "\n",
    "SYSTEM_PROMPT = \"Let's think step by step and output the final answer within \\\\boxed{}.\"\n",
    "\n",
    "aime_ps = [\n",
    "    {\n",
    "        'problem': f\"{aime_p['Question']} {SYSTEM_PROMPT}\",\n",
    "        'answer': str(aime_p['Answer'])\n",
    "    }\n",
    "]\n",
    "aime_ps"
   ]
  },
  {
   "cell_type": "markdown",
   "id": "6dab2c71-ef88-4a9e-9af1-3c5a56b03426",
   "metadata": {},
   "source": [
    "### Extra similar problems with different numbers"
   ]
  },
  {
   "cell_type": "code",
   "execution_count": 12,
   "id": "bded1a88-3c4d-42ef-a467-9ea79b723179",
   "metadata": {
    "scrolled": true
   },
   "outputs": [
    {
     "name": "stdout",
     "output_type": "stream",
     "text": [
      "Problem: What is the smallest positive integer that can be expressed as the sum of seven consecutive integers, and the sum of thirty-one consecutive integers?\n",
      "Solution: 217 \n",
      "\n",
      "Problem: What is the smallest positive integer that can be expressed as the sum of forty-one consecutive integers, and the sum of forty-eight consecutive integers?\n",
      "Solution: 984 \n",
      "\n",
      "Problem: What is the smallest positive integer that can be expressed as the sum of twenty consecutive integers, the sum of thirty-six consecutive integers, and the sum of thirty-seven consecutive integers?\n",
      "Solution: 3330 \n",
      "\n",
      "Problem: What is the smallest positive integer that can be expressed as the sum of eleven consecutive integers, the sum of seventeen consecutive integers, and the sum of thirty-three consecutive integers?\n",
      "Solution: 561 \n",
      "\n",
      "Problem: What is the smallest positive integer that can be expressed as the sum of sixteen consecutive integers, and the sum of forty-seven consecutive integers?\n",
      "Solution: 376 \n",
      "\n",
      "Problem: What is the smallest positive integer that can be expressed as the sum of twelve consecutive integers, the sum of thirty-five consecutive integers, and the sum of forty-four consecutive integers?\n",
      "Solution: 2310 \n",
      "\n",
      "Problem: What is the smallest positive integer that can be expressed as the sum of fifteen consecutive integers, the sum of twenty-three consecutive integers, and the sum of forty-four consecutive integers?\n",
      "Solution: 7590 \n",
      "\n",
      "Problem: What is the smallest positive integer that can be expressed as the sum of two consecutive integers, the sum of six consecutive integers, and the sum of thirty-eight consecutive integers?\n",
      "Solution: 57 \n",
      "\n",
      "Problem: What is the smallest positive integer that can be expressed as the sum of three consecutive integers, the sum of thirty-six consecutive integers, and the sum of forty-four consecutive integers?\n",
      "Solution: 198 \n",
      "\n",
      "Problem: What is the smallest positive integer that can be expressed as the sum of eight consecutive integers, and the sum of twenty-seven consecutive integers?\n",
      "Solution: 108 \n",
      "\n",
      "All 1000 consecutive sum tests passed!\n",
      "Total number of problem generators: 1\n"
     ]
    }
   ],
   "source": [
    "import random\n",
    "import math\n",
    "import re\n",
    "\n",
    "# Mapping for numbers between 2 and 50\n",
    "number_words = {\n",
    "    2: \"two\", 3: \"three\", 4: \"four\", 5: \"five\", 6: \"six\", 7: \"seven\",\n",
    "    8: \"eight\", 9: \"nine\", 10: \"ten\", 11: \"eleven\", 12: \"twelve\",\n",
    "    13: \"thirteen\", 14: \"fourteen\", 15: \"fifteen\", 16: \"sixteen\",\n",
    "    17: \"seventeen\", 18: \"eighteen\", 19: \"nineteen\", 20: \"twenty\",\n",
    "    21: \"twenty-one\", 22: \"twenty-two\", 23: \"twenty-three\", 24: \"twenty-four\",\n",
    "    25: \"twenty-five\", 26: \"twenty-six\", 27: \"twenty-seven\", 28: \"twenty-eight\",\n",
    "    29: \"twenty-nine\", 30: \"thirty\", 31: \"thirty-one\", 32: \"thirty-two\",\n",
    "    33: \"thirty-three\", 34: \"thirty-four\", 35: \"thirty-five\", 36: \"thirty-six\",\n",
    "    37: \"thirty-seven\", 38: \"thirty-eight\", 39: \"thirty-nine\", 40: \"forty\",\n",
    "    41: \"forty-one\", 42: \"forty-two\", 43: \"forty-three\", 44: \"forty-four\",\n",
    "    45: \"forty-five\", 46: \"forty-six\", 47: \"forty-seven\", 48: \"forty-eight\",\n",
    "    49: \"forty-nine\", 50: \"fifty\"\n",
    "}\n",
    "\n",
    "# Inverse mapping from word to int\n",
    "word_to_int = {v: k for k, v in number_words.items()}\n",
    "\n",
    "def generate_problem_consecutive_sums(k_values=None, num_conditions=None, min_k=2, max_k=50, max_attempts=1000):\n",
    "    \"\"\"\n",
    "    Generates a problem of the form:\n",
    "    \n",
    "      \"What is the smallest positive integer that can be expressed as the sum of \n",
    "       k1 consecutive integers, the sum of k2 consecutive integers, ..., and \n",
    "       the sum of kn consecutive integers?\"\n",
    "       \n",
    "    For each k, an integer n can be expressed as the sum of k consecutive integers\n",
    "      n = k*a + k*(k-1)//2    for some integer a,\n",
    "    which is equivalent to:\n",
    "      n ≡ (k*(k-1)//2) (mod k).\n",
    "    \n",
    "    If k_values is not provided, then the function randomly chooses a number\n",
    "    of conditions (if num_conditions is not provided, it randomly picks 2 or 3) and then\n",
    "    randomly samples distinct k values in the interval [min_k, max_k] (sorted in ascending order).\n",
    "    \n",
    "    Because some sets of k values have contradictory congruences (and hence no solution exists),\n",
    "    the function will try up to max_attempts times to generate a set that yields a solution.\n",
    "    \n",
    "    Returns:\n",
    "      tuple: (problem_statement, solution)\n",
    "    \"\"\"\n",
    "    attempt = 0\n",
    "    while attempt < max_attempts:\n",
    "        attempt += 1\n",
    "        # If not provided, choose a random set of k values.\n",
    "        if k_values is None:\n",
    "            if num_conditions is None:\n",
    "                num_conditions = random.choice([2, 3])\n",
    "            available = list(range(min_k, max_k+1))\n",
    "            k_values_candidate = sorted(random.sample(available, num_conditions))\n",
    "        else:\n",
    "            k_values_candidate = k_values\n",
    "        \n",
    "        # For each k, the condition is n ≡ (k*(k-1)//2) (mod k)\n",
    "        congruences = []\n",
    "        for k in k_values_candidate:\n",
    "            r = (k * (k - 1) // 2) % k\n",
    "            congruences.append((r, k))\n",
    "        \n",
    "        # Build the problem statement string using number words.\n",
    "        parts = []\n",
    "        for k in k_values_candidate:\n",
    "            k_word = number_words.get(k, str(k))\n",
    "            parts.append(f\"the sum of {k_word} consecutive integers\")\n",
    "        if len(parts) == 1:\n",
    "            statement_body = parts[0]\n",
    "        else:\n",
    "            statement_body = \", \".join(parts[:-1]) + \", and \" + parts[-1]\n",
    "        problem_statement = f\"What is the smallest positive integer that can be expressed as {statement_body}?\"\n",
    "        \n",
    "        # A safe upper bound for the search is the product of the moduli.\n",
    "        upper_bound = 1\n",
    "        for (_, k) in congruences:\n",
    "            upper_bound *= k\n",
    "\n",
    "        solution = None\n",
    "        for n in range(1, upper_bound + 1):\n",
    "            if all(n % k == (r % k) for (r, k) in congruences):\n",
    "                solution = n\n",
    "                break\n",
    "        if solution is not None:\n",
    "            return problem_statement, solution\n",
    "\n",
    "    raise Exception(\"Unable to find a valid problem after {} attempts.\".format(max_attempts))\n",
    "\n",
    "def test_generate_problem_consecutive_sums(num_tests=100):\n",
    "    \"\"\"\n",
    "    Tests the generate_problem_consecutive_sums function using num_tests random cases.\n",
    "    \n",
    "    It extracts the k values from the problem statement using a regular expression \n",
    "    (which now matches written-out numbers) and verifies that the solution satisfies:\n",
    "         n ≡ (k*(k-1)//2) (mod k)\n",
    "    for every k.\n",
    "    \"\"\"\n",
    "    # Regex to capture number words in the phrase \"the sum of {word} consecutive integers\"\n",
    "    pattern = r\"the sum of (\\w+(?:-\\w+)?) consecutive integers\"\n",
    "    for _ in range(num_tests):\n",
    "        problem, solution = generate_problem_consecutive_sums()\n",
    "        found = re.findall(pattern, problem)\n",
    "        k_values = []\n",
    "        for word in found:\n",
    "            if word in word_to_int:\n",
    "                k_values.append(word_to_int[word])\n",
    "            else:\n",
    "                k_values.append(int(word))\n",
    "        for k in k_values:\n",
    "            r = (k * (k - 1) // 2) % k\n",
    "            assert solution % k == r, f\"Test failed for problem: {problem}\\nSolution: {solution}\\nk: {k}, expected remainder {r}, got {solution % k}\"\n",
    "    print(f\"All {num_tests} consecutive sum tests passed!\")\n",
    "\n",
    "# --- Example usage: Generate and print a few sample problems ---\n",
    "for _ in range(10):\n",
    "    problem, solution = generate_problem_consecutive_sums()\n",
    "    print(\"Problem:\", problem)\n",
    "    print(\"Solution:\", solution, \"\\n\")\n",
    "\n",
    "# --- Run tests ---\n",
    "test_generate_problem_consecutive_sums(num_tests=1000)\n",
    "\n",
    "# Add to list of problem generators (if one is used)\n",
    "try:\n",
    "    problem_gen_functions\n",
    "except NameError:\n",
    "    problem_gen_functions = []\n",
    "problem_gen_functions.append(generate_problem_consecutive_sums)\n",
    "print(\"Total number of problem generators:\", len(problem_gen_functions))\n"
   ]
  },
  {
   "cell_type": "code",
   "execution_count": 13,
   "id": "8ba8a812-8b07-4b26-867a-3f0848edd5ee",
   "metadata": {},
   "outputs": [
    {
     "name": "stdout",
     "output_type": "stream",
     "text": [
      "len(problem_generators): 1\n",
      "cnt_per_gen: 31\n",
      "31\n"
     ]
    }
   ],
   "source": [
    "cnt_per_gen = int(TOTAL_PROBLEMS_DESIRED / len(problem_gen_functions)) + 1\n",
    "print(f\"len(problem_generators): {len(problem_gen_functions)}\")\n",
    "print(f\"cnt_per_gen: {cnt_per_gen}\")\n",
    "\n",
    "tweak_dataset = [\n",
    "    f()\n",
    "    for i in range(cnt_per_gen)\n",
    "    for f in problem_gen_functions\n",
    "]\n",
    "\n",
    "SYSTEM_PROMPT = \"Let's think step by step and output the final answer within \\\\boxed{}.\"\n",
    "\n",
    "tweak_dataset = [\n",
    "    {\n",
    "        'problem': f\"{p[0]} {SYSTEM_PROMPT}\",\n",
    "        'answer': str(p[1])\n",
    "    }\n",
    "    for p in tweak_dataset\n",
    "]\n",
    "\n",
    "print(len(tweak_dataset))\n",
    "# tweak_dataset"
   ]
  },
  {
   "cell_type": "code",
   "execution_count": 14,
   "id": "5d0efd44-ffff-4015-8ce0-43bfa13750cd",
   "metadata": {},
   "outputs": [
    {
     "data": {
      "text/plain": [
       "31"
      ]
     },
     "execution_count": 14,
     "metadata": {},
     "output_type": "execute_result"
    }
   ],
   "source": [
    "tweak_dataset = [p for p in tweak_dataset if p['answer'] != GOLDEN_ANSWER]\n",
    "len(tweak_dataset)"
   ]
  },
  {
   "cell_type": "code",
   "execution_count": 15,
   "id": "30df8d59-1ca9-4deb-b42f-2e5c5197efbd",
   "metadata": {},
   "outputs": [
    {
     "data": {
      "text/plain": [
       "32"
      ]
     },
     "execution_count": 15,
     "metadata": {},
     "output_type": "execute_result"
    }
   ],
   "source": [
    "tweak_dataset = tweak_dataset + aime_ps\n",
    "len(tweak_dataset)"
   ]
  },
  {
   "cell_type": "code",
   "execution_count": 16,
   "id": "e314f02d-d8be-4b77-b43b-0c2f06deb6b8",
   "metadata": {},
   "outputs": [],
   "source": [
    "# tweak_dataset"
   ]
  },
  {
   "cell_type": "code",
   "execution_count": 17,
   "id": "77d42dc9-5b31-467a-8442-74eafea0c104",
   "metadata": {},
   "outputs": [
    {
     "name": "stdout",
     "output_type": "stream",
     "text": [
      "Saved 32 records to ../mod_microskills/val_dataset.jsonl\n"
     ]
    }
   ],
   "source": [
    "# Create directory if it doesn't exist\n",
    "dirname = os.path.dirname(OUTPUT_FILE)\n",
    "if len(dirname.strip()) > 0:\n",
    "    os.makedirs(dirname, exist_ok=True)\n",
    "\n",
    "# Save to JSONL file\n",
    "with open(OUTPUT_FILE, 'w') as f:\n",
    "    for item in tweak_dataset:\n",
    "        f.write(json.dumps(item) + '\\n')\n",
    "\n",
    "print(f\"Saved {len(tweak_dataset)} records to {OUTPUT_FILE}\")"
   ]
  },
  {
   "cell_type": "code",
   "execution_count": null,
   "id": "7f99eeb1-d6ca-4fa0-9dcf-1bf415224d5a",
   "metadata": {},
   "outputs": [],
   "source": []
  }
 ],
 "metadata": {
  "kernelspec": {
   "display_name": "strat",
   "language": "python",
   "name": "strat"
  },
  "language_info": {
   "codemirror_mode": {
    "name": "ipython",
    "version": 3
   },
   "file_extension": ".py",
   "mimetype": "text/x-python",
   "name": "python",
   "nbconvert_exporter": "python",
   "pygments_lexer": "ipython3",
   "version": "3.9.21"
  }
 },
 "nbformat": 4,
 "nbformat_minor": 5
}
