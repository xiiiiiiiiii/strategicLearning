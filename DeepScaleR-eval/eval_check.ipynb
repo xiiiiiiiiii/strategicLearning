{
 "cells": [
  {
   "cell_type": "code",
   "execution_count": 1,
   "metadata": {},
   "outputs": [],
   "source": [
    "import os\n",
    "import pandas as pd\n",
    "import glob\n",
    "import json\n",
    "import re\n",
    "from pathlib import Path\n",
    "import matplotlib.pyplot as plt\n",
    "import numpy as np"
   ]
  },
  {
   "cell_type": "markdown",
   "metadata": {},
   "source": [
    "## Load Completions"
   ]
  },
  {
   "cell_type": "code",
   "execution_count": 2,
   "metadata": {},
   "outputs": [
    {
     "name": "stdout",
     "output_type": "stream",
     "text": [
      "Loaded 4 rows from 0.jsonl\n",
      "Loaded 4 rows from 1.jsonl\n",
      "Created DataFrame with 8 rows from 2 files\n"
     ]
    }
   ],
   "source": [
    "def load_all_jsonl_to_dataframe(folder_path):\n",
    "    \"\"\"Load all JSONL files from a folder into a pandas DataFrame.\"\"\"\n",
    "    # Find all .jsonl files\n",
    "    jsonl_files = glob.glob(os.path.join(folder_path, \"*.jsonl\"))\n",
    "    \n",
    "    # Create list to hold dataframes\n",
    "    dfs = []\n",
    "    \n",
    "    for file_path in jsonl_files:\n",
    "        try:\n",
    "            # Read file into dataframe\n",
    "            df = pd.read_json(file_path, lines=True)\n",
    "            df['source_file'] = os.path.basename(file_path)  # Optional: track source file\n",
    "            dfs.append(df)\n",
    "            print(f\"Loaded {len(df)} rows from {os.path.basename(file_path)}\")\n",
    "        except Exception as e:\n",
    "            print(f\"Error loading {file_path}: {e}\")\n",
    "    \n",
    "    # Combine all dataframes\n",
    "    if dfs:\n",
    "        combined_df = pd.concat(dfs, ignore_index=True)\n",
    "        print(f\"Created DataFrame with {len(combined_df)} rows from {len(jsonl_files)} files\")\n",
    "        return combined_df\n",
    "    else:\n",
    "        print(\"No valid files found\")\n",
    "        return pd.DataFrame()\n",
    "\n",
    "# Usage\n",
    "folder_path = \"../data/deepscaler_eval_check/\"\n",
    "combined_data = load_all_jsonl_to_dataframe(folder_path)"
   ]
  },
  {
   "cell_type": "markdown",
   "metadata": {},
   "source": [
    "## Display sample data"
   ]
  },
  {
   "cell_type": "code",
   "execution_count": 3,
   "metadata": {},
   "outputs": [],
   "source": [
    "# Display the first few rows\n",
    "# combined_data.head(100)"
   ]
  },
  {
   "cell_type": "code",
   "execution_count": 4,
   "metadata": {},
   "outputs": [],
   "source": [
    "# combined_data.iloc[0]"
   ]
  },
  {
   "cell_type": "markdown",
   "metadata": {},
   "source": [
    "## Solution Extraction Utilities\n",
    "\n",
    "Functions to extract solutions from model outputs and compute correctness."
   ]
  },
  {
   "cell_type": "code",
   "execution_count": 5,
   "metadata": {},
   "outputs": [],
   "source": [
    "def remove_boxed(s):\n",
    "    if s is None:\n",
    "        return None\n",
    "\n",
    "    left = \"\\\\boxed{\"\n",
    "\n",
    "    if s[:len(left)] != left:\n",
    "        return None\n",
    "    if s[-1] != \"}\":\n",
    "        return None\n",
    "\n",
    "    return s[len(left):-1]\n",
    "\n",
    "\n",
    "def last_boxed_only_string(string):\n",
    "    idx = string.rfind(\"\\\\boxed\")\n",
    "    if \"\\\\boxed \" in string:\n",
    "        return \"\\\\boxed \" + string.split(\"\\\\boxed \")[-1].split(\"$\")[0]\n",
    "    if idx < 0:\n",
    "        idx = string.rfind(\"\\\\fbox\")\n",
    "        if idx < 0:\n",
    "            return None\n",
    "\n",
    "    i = idx\n",
    "    right_brace_idx = None\n",
    "    num_left_braces_open = 0\n",
    "    while i < len(string):\n",
    "        if string[i] == \"{\":\n",
    "            num_left_braces_open += 1\n",
    "        if string[i] == \"}\":\n",
    "            num_left_braces_open -= 1\n",
    "            if num_left_braces_open == 0:\n",
    "                right_brace_idx = i\n",
    "                break\n",
    "        i += 1\n",
    "\n",
    "    if right_brace_idx is None:\n",
    "        retval = None\n",
    "    else:\n",
    "        retval = string[idx:right_brace_idx + 1]\n",
    "\n",
    "    return retval\n",
    "\n",
    "def extract_solution(text):\n",
    "    return remove_boxed(last_boxed_only_string(text))\n",
    "\n",
    "def correctness_reward_func(response: str, actual_answers: str) -> float:\n",
    "    extracted_answer = extract_solution(response)\n",
    "    return 1.0 if extracted_answer == actual_answers else 0.0"
   ]
  },
  {
   "cell_type": "markdown",
   "metadata": {},
   "source": [
    "## Transform for Analysis"
   ]
  },
  {
   "cell_type": "code",
   "execution_count": 6,
   "metadata": {},
   "outputs": [
    {
     "name": "stdout",
     "output_type": "stream",
     "text": [
      "len(check): 8\n"
     ]
    }
   ],
   "source": [
    "check = combined_data.copy()[['prompt', 'answer']].drop_duplicates()\n",
    "print(f\"len(check): {len(check)}\")"
   ]
  },
  {
   "cell_type": "code",
   "execution_count": 7,
   "metadata": {
    "scrolled": true
   },
   "outputs": [],
   "source": [
    "df = combined_data.copy()\n",
    "df['question_text'] = df['prompt']\n",
    "df['ground_truth'] = df['answer']\n",
    "df.drop([\n",
    "    'source_file',\n",
    "], axis=1, inplace=True)\n",
    "# print(f\"len(df): {len(df)}\")\n",
    "df = df.explode('outputs')\n",
    "df['response'] = df['outputs'].apply(lambda x: x['output'])\n",
    "# print(f\"len(df): {len(df)}\")\n",
    "df['extracted_solution'] = df['response'].apply(lambda x: extract_solution(x))\n",
    "\n",
    "# # # Only keep completions where there was a generated solution.\n",
    "# # df = df[df['extracted_solution'].notna()]\n",
    "\n",
    "df['reward'] = (df['extracted_solution'] == df['ground_truth'].astype(str)).astype(float)\n",
    "# df\n",
    "# df[df['extracted_solution'].isna()]"
   ]
  },
  {
   "cell_type": "code",
   "execution_count": 8,
   "metadata": {},
   "outputs": [],
   "source": [
    "def pass_at_k(n, c, k):\n",
    "    \"\"\"\n",
    "    :param n: total number of samples :param c: number of correct\n",
    "    Samples\n",
    "    :param k: k in pass@$k$\n",
    "    \"\"\"\n",
    "    if n - c < k: return 1.0\n",
    "    return 1.0 - np.prod(1.0 - k / np.arange(n - c + 1, n + 1))\n",
    "\n",
    "# pass_at_k(16, 2, 1)"
   ]
  },
  {
   "cell_type": "code",
   "execution_count": 9,
   "metadata": {},
   "outputs": [],
   "source": [
    "perf = (\n",
    "    df[['question_text', 'ground_truth', 'reward']]\n",
    "    .groupby(['question_text', 'ground_truth'])\n",
    "    .agg(\n",
    "        count=('reward', 'count'),\n",
    "        sum_reward=('reward', 'sum'),\n",
    "        accuracy=('reward', 'mean')\n",
    "    )\n",
    ")\n",
    "\n",
    "# print(f\"len(perf): {len(perf)}\")\n",
    "\n",
    "# If only answer with an extarcted \\boxed{...} answer are kept, count isn't always 16.\n",
    "# assert(len(perf[perf['count'] != 16]) == 0)\n",
    "# perf[f'pass@{k}'] = perf['sum_reward'].apply(lambda x: pass_at_k(16, x, k))\n",
    "\n",
    "k = 1\n",
    "perf[f'pass@{k}'] = perf.apply(\n",
    "    lambda x: pass_at_k(x['count'], x['sum_reward'], k), \n",
    "    axis=1\n",
    ")\n",
    "# perf"
   ]
  },
  {
   "cell_type": "code",
   "execution_count": 10,
   "metadata": {},
   "outputs": [],
   "source": [
    "tweak_dataset = [\n",
    "    {\n",
    "        'problem': r['question_text'],\n",
    "        'answer': str(r['ground_truth']),\n",
    "        f'pass@{k}': str(r[f'pass@{k}']),\n",
    "    }\n",
    "    for index, r in perf.reset_index().iterrows()\n",
    "]\n",
    "# tweak_dataset"
   ]
  },
  {
   "cell_type": "code",
   "execution_count": 11,
   "metadata": {},
   "outputs": [
    {
     "name": "stdout",
     "output_type": "stream",
     "text": [
      "problem A list of positive integers has the following properties:\n",
      "$\\bullet$ The sum of the items in the list is $30$.\n",
      "$\\bullet$ The unique mode of the list is $9$.\n",
      "$\\bullet$ The median of the list is a positive integer that does not appear in the list itself.\n",
      " Find the sum of the squares of all the items in the list. Let's think step by step and output the final answer within \\boxed{}. Let's think step by step and output the final answer within \\boxed{}.\n",
      "answer 236\n",
      "pass@1 0.3749999999999998\n",
      "\n",
      "problem Let $A$, $B$, $C$, and $D$ be point on the hyperbola $\\frac{x^2}{20}- \\frac{y^2}{24} = 1$ such that $ABCD$ is a rhombus whose diagonals intersect at the origin. Find the greatest real number that is less than $BD^2$ for all such rhombi. Let's think step by step and output the final answer within \\boxed{}. Let's think step by step and output the final answer within \\boxed{}.\n",
      "answer 480\n",
      "pass@1 0.1875\n",
      "\n",
      "problem Let $ABC$ be a triangle inscribed in circle $\\omega$. Let the tangents to $\\omega$ at $B$ and $C$ intersect at point $D$, and let $\\overline{AD}$ intersect $\\omega$ at $P$. If $AB=5$, $BC=9$, and $AC=10$, $AP$ can be written as the form $\\frac{m}{n}$, where $m$ and $n$ are relatively prime integers. Find $m + n$. Let's think step by step and output the final answer within \\boxed{}. Let's think step by step and output the final answer within \\boxed{}.\n",
      "answer 113\n",
      "pass@1 0.09375\n",
      "\n",
      "problem Let $ABCD$ be a tetrahedron such that $AB=CD= \\sqrt{41}$, $AC=BD= \\sqrt{80}$, and $BC=AD= \\sqrt{89}$. There exists a point $I$ inside the tetrahedron such that the distances from $I$ to each of the faces of the tetrahedron are all equal. This distance can be written in the form $\\frac{m \\sqrt n}{p}$, where $m$, $n$, and $p$ are positive integers, $m$ and $p$ are relatively prime, and $n$ is not divisible by the square of any prime. Find $m+n+p$. Let's think step by step and output the final answer within \\boxed{}. Let's think step by step and output the final answer within \\boxed{}.\n",
      "answer 104\n",
      "pass@1 0.03125\n",
      "\n",
      "problem Let $\\mathcal{B}$ be the set of rectangular boxes with surface area $54$ and volume $23$. Let $r$ be the radius of the smallest sphere that can contain each of the rectangular boxes that are elements of $\\mathcal{B}$. The value of $r^2$ can be written as $\\frac{p}{q}$, where $p$ and $q$ are relatively prime positive integers. Find $p+q$. Let's think step by step and output the final answer within \\boxed{}. Let's think step by step and output the final answer within \\boxed{}.\n",
      "answer 721\n",
      "pass@1 0.90625\n",
      "\n",
      "problem Let $p$ be the least prime number for which there exists a positive integer $n$ such that $n^{4}+1$ is divisible by $p^{2}$. Find the least positive integer $m$ such that $m^{4}+1$ is divisible by $p^{2}$. Let's think step by step and output the final answer within \\boxed{}. Let's think step by step and output the final answer within \\boxed{}.\n",
      "answer 110\n",
      "pass@1 0.2499999999999999\n",
      "\n",
      "problem Let \\(b\\ge 2\\) be an integer. Call a positive integer \\(n\\) \\(b\\text-\\textit{eautiful}\\) if it has exactly two digits when expressed in base \\(b\\) and these two digits sum to \\(\\sqrt n\\). For example, \\(81\\) is \\(13\\text-\\textit{eautiful}\\) because \\(81 = \\underline{6} \\ \\underline{3}_{13} \\) and \\(6 + 3 = \\sqrt{81}\\). Find the least integer \\(b\\ge 2\\) for which there are more than ten \\(b\\text-\\textit{eautiful}\\) integers. Let's think step by step and output the final answer within \\boxed{}. Let's think step by step and output the final answer within \\boxed{}.\n",
      "answer 211\n",
      "pass@1 0.0\n",
      "\n",
      "problem Rectangles $ABCD$ and $EFGH$ are drawn such that $D,E,C,F$ are collinear. Also, $A,D,H,G$ all lie on a circle. If $BC=16$,$AB=107$,$FG=17$, and $EF=184$, what is the length of $CE$?\n",
      "[asy] import graph; unitsize(0.1cm); pair A = (0,0);pair B = (70,0);pair C = (70,16);pair D = (0,16);pair E = (3,16);pair F = (90,16);pair G = (90,33);pair H = (3,33); dot(A^^B^^C^^D^^E^^F^^G^^H); label(\"$A$\", A, S);label(\"$B$\", B, S);label(\"$C$\", C, N);label(\"$D$\", D, N);label(\"$E$\", E, S);label(\"$F$\", F, S);label(\"$G$\", G, N);label(\"$H$\", H, N); draw(E--D--A--B--C--E--H--G--F--C); [/asy] Let's think step by step and output the final answer within \\boxed{}. Let's think step by step and output the final answer within \\boxed{}.\n",
      "answer 104\n",
      "pass@1 0.3437499999999999\n",
      "\n"
     ]
    }
   ],
   "source": [
    "pass_at_k = f'pass@{k}'\n",
    "for p in tweak_dataset:\n",
    "    print(f\"problem {p['problem']}\")\n",
    "    print(f\"answer {p['answer']}\")\n",
    "    print(f\"{pass_at_k} {p[pass_at_k]}\")\n",
    "    print()"
   ]
  },
  {
   "cell_type": "code",
   "execution_count": null,
   "metadata": {},
   "outputs": [],
   "source": []
  }
 ],
 "metadata": {
  "kernelspec": {
   "display_name": "strat",
   "language": "python",
   "name": "strat"
  },
  "language_info": {
   "codemirror_mode": {
    "name": "ipython",
    "version": 3
   },
   "file_extension": ".py",
   "mimetype": "text/x-python",
   "name": "python",
   "nbconvert_exporter": "python",
   "pygments_lexer": "ipython3",
   "version": "3.9.21"
  }
 },
 "nbformat": 4,
 "nbformat_minor": 4
}
